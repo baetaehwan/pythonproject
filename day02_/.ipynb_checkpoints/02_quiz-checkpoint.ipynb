{
 "cells": [
  {
   "cell_type": "raw",
   "id": "51404e22-2432-47e4-9184-88867f05c092",
   "metadata": {},
   "source": [
    "quiz 01>\n",
    "주민등록번호 14자리를 입력받아서 성별을 체크합니다.\n",
    "프로그램 종료는 (q,Q)를 누를때 까지 반복처리합니다.\n",
    "입력예: 123456-1234567\n",
    "조건처리: *길이값체크\n",
    "          *성별체크(기능값: 1,2,3,4)\n",
    "출력: 여성입니다. or 남성입니다. "
   ]
  },
  {
   "cell_type": "code",
   "execution_count": 34,
   "id": "479c08a9-1cc3-4d99-9fec-d1d21dae77ef",
   "metadata": {},
   "outputs": [
    {
     "name": "stdin",
     "output_type": "stream",
     "text": [
      "주민등록번호 14자리>> 123456-1234567\n"
     ]
    }
   ],
   "source": [
    "a = input('주민등록번호 14자리>>')"
   ]
  },
  {
   "cell_type": "code",
   "execution_count": 38,
   "id": "e674eebe-7c3e-41db-9421-91155f8ab075",
   "metadata": {},
   "outputs": [
    {
     "ename": "SyntaxError",
     "evalue": "invalid syntax (Temp/ipykernel_4288/3580184535.py, line 2)",
     "output_type": "error",
     "traceback": [
      "\u001b[1;36m  File \u001b[1;32m\"C:\\Users\\Admin\\AppData\\Local\\Temp/ipykernel_4288/3580184535.py\"\u001b[1;36m, line \u001b[1;32m2\u001b[0m\n\u001b[1;33m    while a[7]==1,2,3 or4\u001b[0m\n\u001b[1;37m                 ^\u001b[0m\n\u001b[1;31mSyntaxError\u001b[0m\u001b[1;31m:\u001b[0m invalid syntax\n"
     ]
    }
   ],
   "source": [
    "if len(a)==14:\n",
    "    while a[7]==1,2,3 or4\n",
    "        if a[7]=1 or 3:\n",
    "            print('남성입니다.')\n",
    "        else a[7]=2 or 4:\n",
    "            print('여성입니다.')\n",
    "else:\n",
    "    print('다시 입력해주세요.')"
   ]
  },
  {
   "cell_type": "code",
   "execution_count": 39,
   "id": "cf4ff7c9-c369-4c7c-91a8-04a36c6e844c",
   "metadata": {},
   "outputs": [
    {
     "name": "stdin",
     "output_type": "stream",
     "text": [
      "주민등록번호 입력(14자리,종료:q,Q >>> 123156879456\n"
     ]
    },
    {
     "name": "stdout",
     "output_type": "stream",
     "text": [
      "입력 문자의 길이가 안맞거나, 성별값의 범위가 아닙니다.\n"
     ]
    },
    {
     "name": "stdin",
     "output_type": "stream",
     "text": [
      "주민등록번호 입력(14자리,종료:q,Q >>> q\n"
     ]
    },
    {
     "name": "stdout",
     "output_type": "stream",
     "text": [
      "프로그램 종료\n"
     ]
    }
   ],
   "source": [
    "while True:\n",
    "    invalue = input('주민등록번호 입력(14자리,종료:q,Q >>>')\n",
    "    if len(invalue) == 1 and invalue.lower() == 'q':\n",
    "        print('프로그램 종료')\n",
    "        break\n",
    "    elif len(invalue) == 14and invalue[6] == '-' and invalue[7] in ['1','2','3','4']:\n",
    "        if invalue[7] in ['1','3']:\n",
    "            print('남성입니다.')\n",
    "        else:\n",
    "            print('여성입니다.')\n",
    "    else:\n",
    "        print('입력 문자의 길이가 안맞거나, 성별값의 범위가 아닙니다.')\n",
    "        "
   ]
  },
  {
   "cell_type": "raw",
   "id": "6dbce453-e0f7-4b64-8de7-239425559968",
   "metadata": {},
   "source": [
    "quiz 02>\n",
    "로또 번호 추출기\n",
    "총 5셋트의 번호를 추출합니다.\n",
    "한 세트당 번호는 6개 입니다.\n",
    "번호의 범위는 1~45 사이의 번호만 가능합니다.\n",
    "번호는 중복되면 안 됩니다.\n",
    "번호를 출력 시 오른차순으로 정렬해서 출력합니다."
   ]
  },
  {
   "cell_type": "code",
   "execution_count": 310,
   "id": "d5bece73-e721-47c7-8574-9a7b2612fe03",
   "metadata": {},
   "outputs": [
    {
     "data": {
      "text/plain": [
       "{1, 14, 19, 27, 39, 44}"
      ]
     },
     "execution_count": 310,
     "metadata": {},
     "output_type": "execute_result"
    }
   ],
   "source": [
    "\n",
    "    import random\n",
    "    a = random.randint(1,45)\n",
    "    b = random.randint(1,45)\n",
    "    c = random.randint(1,45)\n",
    "    d = random.randint(1,45)\n",
    "    e = random.randint(1,45)\n",
    "    f = random.randint(1,45)\n",
    "    i = [a,b,c,d,e,f]\n",
    "    i.sort()\n",
    "\n",
    "    if len(set(i)) != 6:\n",
    "        print('다시')\n",
    "    else:\n",
    "        result = set(i)\n",
    "\n",
    "    result"
   ]
  },
  {
   "cell_type": "code",
   "execution_count": 298,
   "id": "7e5dc128-907f-41dc-b684-67aae08b08ae",
   "metadata": {},
   "outputs": [
    {
     "name": "stdout",
     "output_type": "stream",
     "text": [
      "[6, 8, 13, 28, 32, 37]\n",
      "[17, 21, 23, 24, 26, 40]\n",
      "[12, 23, 25, 28, 30, 33]\n",
      "[2, 27, 30, 38, 40, 44]\n",
      "[3, 12, 22, 25, 27, 34]\n"
     ]
    }
   ],
   "source": [
    "for i in range(5):\n",
    "    lotto = [0,0,0,0,0,0]\n",
    "    for x in range(6):\n",
    "        num = 0\n",
    "        while (num in lotto):\n",
    "            num = random.randint(1,45)\n",
    "        lotto[x]=num\n",
    "    lotto.sort()\n",
    "    print(lotto)"
   ]
  },
  {
   "cell_type": "code",
   "execution_count": 294,
   "id": "000b61df-76b0-4899-858f-a97e41748e94",
   "metadata": {},
   "outputs": [
    {
     "name": "stdout",
     "output_type": "stream",
     "text": [
      "[6, 7, 15, 24, 26, 35]\n",
      "[4, 9, 14, 21, 23, 32]\n",
      "[3, 11, 15, 19, 28, 45]\n",
      "[11, 14, 16, 25, 29, 35]\n",
      "[4, 35, 39, 41, 42, 44]\n"
     ]
    }
   ],
   "source": [
    "for i in range(5):\n",
    "    lotto=random.sample(range(1,46),6)\n",
    "    lotto.sort()\n",
    "    print(lotto)"
   ]
  },
  {
   "cell_type": "raw",
   "id": "4f078bd6-631b-463d-b1c0-68c30d005c52",
   "metadata": {},
   "source": [
    "quiz 03> 커피메뉴 관리프로그램\n",
    "데이터 저장은 딕셔너리로.. {'메뉴명':가격, 'coffee':2000}\n",
    "프로그램에서 사용할 메뉴\n",
    "1. 메뉴입력 2. 메뉴수정 3.메뉴목록 4.메뉴삭제 5.프로그램종료\n",
    "-메뉴입력: 메뉴명과 가격을 입력받아서 저장\n",
    "-메뉴수정: 메뉴명을 확인하고 있는 메뉴에 가격을 입력받아 수정\n",
    "-메뉴목록: 저장된 메뉴명과 가격을 출력(천단위구분기호표기),메뉴명 순서대로 출력\n",
    "-메뉴삭제: 메뉴명을 확인하고 있는 메뉴에서 삭제\n",
    "-프로그램종료: 프로그램을 종료하는 메세지를 출력하고 종료\n",
    "-메뉴1~5까지만 입력받고 다른 값이 들어오면 관련 에러 메세지를 출력한다.\n",
    "-가격은 숫자로 입력해야 됨."
   ]
  },
  {
   "cell_type": "code",
   "execution_count": 311,
   "id": "e9d5416b-3aae-40c6-b399-b656a8ec6d71",
   "metadata": {},
   "outputs": [],
   "source": [
    "# sorted()\n",
    "list1=[5,2,3,1,4]\n",
    "dict1={'아이스아메리카노':3000,'라떼':4000,'코코아':3500}"
   ]
  },
  {
   "cell_type": "code",
   "execution_count": 326,
   "id": "5f929741-fcdc-4acd-94b3-3ec64f0c079e",
   "metadata": {},
   "outputs": [
    {
     "data": {
      "text/plain": [
       "[1, 2, 3, 4, 5]"
      ]
     },
     "execution_count": 326,
     "metadata": {},
     "output_type": "execute_result"
    }
   ],
   "source": [
    "list1.sort()\n",
    "list1"
   ]
  },
  {
   "cell_type": "code",
   "execution_count": 315,
   "id": "b5cf8ef9-fb43-4dbc-bb03-6780f664201c",
   "metadata": {},
   "outputs": [
    {
     "data": {
      "text/plain": [
       "['라떼', '아이스아메리카노', '코코아']"
      ]
     },
     "execution_count": 315,
     "metadata": {},
     "output_type": "execute_result"
    }
   ],
   "source": [
    "sorted(dict1)"
   ]
  },
  {
   "cell_type": "code",
   "execution_count": 320,
   "id": "701ca39e-6d82-4d34-8aae-c512f35523b9",
   "metadata": {},
   "outputs": [
    {
     "data": {
      "text/plain": [
       "dict_items([('아이스아메리카노', 3000), ('라떼', 4000), ('코코아', 3500)])"
      ]
     },
     "execution_count": 320,
     "metadata": {},
     "output_type": "execute_result"
    }
   ],
   "source": [
    "dict1.items()"
   ]
  },
  {
   "cell_type": "code",
   "execution_count": 319,
   "id": "ed7b09f0-895f-4643-9ed4-0a350a2a5120",
   "metadata": {},
   "outputs": [
    {
     "data": {
      "text/plain": [
       "[('아이스아메리카노', 3000), ('코코아', 3500), ('라떼', 4000)]"
      ]
     },
     "execution_count": 319,
     "metadata": {},
     "output_type": "execute_result"
    }
   ],
   "source": [
    "sorted(dict1.items(),key=lambda data:data[1])"
   ]
  },
  {
   "cell_type": "code",
   "execution_count": 321,
   "id": "5f3b875f-0de2-47e7-bc4c-bf02995b4008",
   "metadata": {},
   "outputs": [],
   "source": [
    "student_tu = [('john','A',15),\n",
    "              ('jane','B',12),\n",
    "              ('dave','B',10)]"
   ]
  },
  {
   "cell_type": "code",
   "execution_count": 322,
   "id": "8c0283a6-13f1-427f-9c76-a9697fdaa188",
   "metadata": {},
   "outputs": [
    {
     "data": {
      "text/plain": [
       "[('dave', 'B', 10), ('jane', 'B', 12), ('john', 'A', 15)]"
      ]
     },
     "execution_count": 322,
     "metadata": {},
     "output_type": "execute_result"
    }
   ],
   "source": [
    "sorted(student_tu)"
   ]
  },
  {
   "cell_type": "code",
   "execution_count": 323,
   "id": "9b624103-2861-4933-9011-55b4038c8ee4",
   "metadata": {},
   "outputs": [
    {
     "data": {
      "text/plain": [
       "[('dave', 'B', 10), ('jane', 'B', 12), ('john', 'A', 15)]"
      ]
     },
     "execution_count": 323,
     "metadata": {},
     "output_type": "execute_result"
    }
   ],
   "source": [
    "sorted(student_tu,key=lambda x:x[2])"
   ]
  },
  {
   "cell_type": "code",
   "execution_count": 324,
   "id": "4305587f-81f0-4000-aff9-e52b820c1fde",
   "metadata": {},
   "outputs": [
    {
     "data": {
      "text/plain": [
       "[('john', 'A', 15), ('jane', 'B', 12), ('dave', 'B', 10)]"
      ]
     },
     "execution_count": 324,
     "metadata": {},
     "output_type": "execute_result"
    }
   ],
   "source": [
    "sorted(student_tu,key=lambda x:x[2],reverse=True)"
   ]
  },
  {
   "cell_type": "code",
   "execution_count": 329,
   "id": "5a7fee96-48e7-4556-8322-ea49c6d6c8fc",
   "metadata": {},
   "outputs": [
    {
     "data": {
      "text/plain": [
       "{'아이스아메리카노': 3000, '라떼': 4000, '코코아': 3500, '망고스무디': 4500}"
      ]
     },
     "execution_count": 329,
     "metadata": {},
     "output_type": "execute_result"
    }
   ],
   "source": [
    "menu = {'아이스아메리카노':3000,'라떼':4000,'코코아':3500}\n",
    "menu['망고스무디']=4500\n",
    "menu"
   ]
  },
  {
   "cell_type": "code",
   "execution_count": 364,
   "id": "0e8c96ad-eff7-4e74-8fcf-518c6034bdd0",
   "metadata": {},
   "outputs": [
    {
     "name": "stdin",
     "output_type": "stream",
     "text": [
      "옵션 번호를 선택하세요. \n",
      "1.메뉴입력 2.메뉴수정 3.메뉴목록 4.메뉴삭제 5.프로그램종료 \n",
      " 4\n",
      "삭제 메뉴 코코아\n"
     ]
    }
   ],
   "source": [
    "list = input('옵션 번호를 선택하세요. \\n1.메뉴입력 2.메뉴수정 3.메뉴목록 4.메뉴삭제 5.프로그램종료 \\n')\n",
    "menu = {'아이스아메리카노':3000,'라떼':4000,'코코아':3500}\n",
    "\n",
    "if list == '1':\n",
    "    add1 = input('추가 메뉴')\n",
    "    add2 = input('메뉴 가격')\n",
    "    menu[add1]=add2    \n",
    "elif list == '3':\n",
    "    sorted(menu, key=lambda x:x[0])\n",
    "    \n",
    "elif list == '4':    \n",
    "    del1 = input('삭제 메뉴')\n",
    "    del menu[del1]\n",
    "else:\n",
    "    print('프로그램종료')"
   ]
  },
  {
   "cell_type": "code",
   "execution_count": null,
   "id": "e8c3e7f0-dba2-4c25-99fe-239a65ab956a",
   "metadata": {},
   "outputs": [],
   "source": []
  }
 ],
 "metadata": {
  "kernelspec": {
   "display_name": "Python 3 (ipykernel)",
   "language": "python",
   "name": "python3"
  },
  "language_info": {
   "codemirror_mode": {
    "name": "ipython",
    "version": 3
   },
   "file_extension": ".py",
   "mimetype": "text/x-python",
   "name": "python",
   "nbconvert_exporter": "python",
   "pygments_lexer": "ipython3",
   "version": "3.9.7"
  }
 },
 "nbformat": 4,
 "nbformat_minor": 5
}
