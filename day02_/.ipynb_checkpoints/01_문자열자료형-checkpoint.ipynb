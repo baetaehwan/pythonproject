{
 "cells": [
  {
   "cell_type": "code",
   "execution_count": 7,
   "id": "3002b641-07a7-4a5f-9ff5-6bfa2a824249",
   "metadata": {},
   "outputs": [],
   "source": [
    "a = 'hello,hi,hi'"
   ]
  },
  {
   "cell_type": "code",
   "execution_count": 2,
   "id": "06da529b-c0a4-41c0-93a6-6569cac4e69a",
   "metadata": {},
   "outputs": [
    {
     "data": {
      "text/plain": [
       "str"
      ]
     },
     "execution_count": 2,
     "metadata": {},
     "output_type": "execute_result"
    }
   ],
   "source": [
    "type(a)"
   ]
  },
  {
   "cell_type": "code",
   "execution_count": 9,
   "id": "80d030b1-3616-4a22-9151-5a7b87ce2dcb",
   "metadata": {},
   "outputs": [],
   "source": [
    "b = a.split(sep=',')"
   ]
  },
  {
   "cell_type": "code",
   "execution_count": 12,
   "id": "e293f1e1-6f6e-432a-b070-5c53d46ca703",
   "metadata": {},
   "outputs": [
    {
     "data": {
      "text/plain": [
       "['hello', 'hi', 'hi']"
      ]
     },
     "execution_count": 12,
     "metadata": {},
     "output_type": "execute_result"
    }
   ],
   "source": [
    "b"
   ]
  },
  {
   "cell_type": "code",
   "execution_count": 34,
   "id": "117c020e-f94f-4c77-a0c8-edb757cd42aa",
   "metadata": {},
   "outputs": [
    {
     "data": {
      "text/plain": [
       "'hello, hi, hi'"
      ]
     },
     "execution_count": 34,
     "metadata": {},
     "output_type": "execute_result"
    }
   ],
   "source": [
    "', '.join(b)"
   ]
  },
  {
   "cell_type": "code",
   "execution_count": 40,
   "id": "5bedfd87-1718-4600-95f3-908b7baa4740",
   "metadata": {},
   "outputs": [],
   "source": [
    "a1=a.upper()"
   ]
  },
  {
   "cell_type": "code",
   "execution_count": 41,
   "id": "64e2a1f6-8ef6-4e33-b763-822a5685990a",
   "metadata": {},
   "outputs": [
    {
     "data": {
      "text/plain": [
       "'HELLO,HI,HI'"
      ]
     },
     "execution_count": 41,
     "metadata": {},
     "output_type": "execute_result"
    }
   ],
   "source": [
    "a1"
   ]
  },
  {
   "cell_type": "code",
   "execution_count": 42,
   "id": "bdab6302-1ac6-48c4-ac4f-d1b1306cdad3",
   "metadata": {},
   "outputs": [
    {
     "data": {
      "text/plain": [
       "'hello,hi,hi'"
      ]
     },
     "execution_count": 42,
     "metadata": {},
     "output_type": "execute_result"
    }
   ],
   "source": [
    "a1.lower()"
   ]
  },
  {
   "cell_type": "code",
   "execution_count": 44,
   "id": "bdb3e003-c8f7-4370-9a99-553d10787fb0",
   "metadata": {},
   "outputs": [
    {
     "data": {
      "text/plain": [
       "'Hello,hi,hi'"
      ]
     },
     "execution_count": 44,
     "metadata": {},
     "output_type": "execute_result"
    }
   ],
   "source": [
    "a1.capitalize()"
   ]
  },
  {
   "cell_type": "code",
   "execution_count": 45,
   "id": "4f669c9a-68bf-48ae-8e68-0513bd2be93a",
   "metadata": {},
   "outputs": [],
   "source": [
    "a= ' hi '"
   ]
  },
  {
   "cell_type": "code",
   "execution_count": 46,
   "id": "528b9e65-2498-4579-b685-474013fb5816",
   "metadata": {},
   "outputs": [
    {
     "data": {
      "text/plain": [
       "' hi '"
      ]
     },
     "execution_count": 46,
     "metadata": {},
     "output_type": "execute_result"
    }
   ],
   "source": [
    "a"
   ]
  },
  {
   "cell_type": "code",
   "execution_count": null,
   "id": "b93fb878-e62f-41a3-b143-23c12b3b5776",
   "metadata": {},
   "outputs": [],
   "source": []
  }
 ],
 "metadata": {
  "kernelspec": {
   "display_name": "Python 3 (ipykernel)",
   "language": "python",
   "name": "python3"
  },
  "language_info": {
   "codemirror_mode": {
    "name": "ipython",
    "version": 3
   },
   "file_extension": ".py",
   "mimetype": "text/x-python",
   "name": "python",
   "nbconvert_exporter": "python",
   "pygments_lexer": "ipython3",
   "version": "3.9.7"
  }
 },
 "nbformat": 4,
 "nbformat_minor": 5
}
