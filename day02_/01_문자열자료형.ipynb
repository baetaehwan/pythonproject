{
 "cells": [
  {
   "cell_type": "code",
   "execution_count": 7,
   "id": "3002b641-07a7-4a5f-9ff5-6bfa2a824249",
   "metadata": {},
   "outputs": [],
   "source": [
    "a = 'hello,hi,hi'"
   ]
  },
  {
   "cell_type": "code",
   "execution_count": 2,
   "id": "06da529b-c0a4-41c0-93a6-6569cac4e69a",
   "metadata": {},
   "outputs": [
    {
     "data": {
      "text/plain": [
       "str"
      ]
     },
     "execution_count": 2,
     "metadata": {},
     "output_type": "execute_result"
    }
   ],
   "source": [
    "type(a)"
   ]
  },
  {
   "cell_type": "code",
   "execution_count": 9,
   "id": "80d030b1-3616-4a22-9151-5a7b87ce2dcb",
   "metadata": {},
   "outputs": [],
   "source": [
    "b = a.split(sep=',')"
   ]
  },
  {
   "cell_type": "code",
   "execution_count": 12,
   "id": "e293f1e1-6f6e-432a-b070-5c53d46ca703",
   "metadata": {},
   "outputs": [
    {
     "data": {
      "text/plain": [
       "['hello', 'hi', 'hi']"
      ]
     },
     "execution_count": 12,
     "metadata": {},
     "output_type": "execute_result"
    }
   ],
   "source": [
    "b"
   ]
  },
  {
   "cell_type": "code",
   "execution_count": 34,
   "id": "117c020e-f94f-4c77-a0c8-edb757cd42aa",
   "metadata": {},
   "outputs": [
    {
     "data": {
      "text/plain": [
       "'hello, hi, hi'"
      ]
     },
     "execution_count": 34,
     "metadata": {},
     "output_type": "execute_result"
    }
   ],
   "source": [
    "', '.join(b)"
   ]
  },
  {
   "cell_type": "code",
   "execution_count": 40,
   "id": "5bedfd87-1718-4600-95f3-908b7baa4740",
   "metadata": {},
   "outputs": [],
   "source": [
    "a1=a.upper()"
   ]
  },
  {
   "cell_type": "code",
   "execution_count": 41,
   "id": "64e2a1f6-8ef6-4e33-b763-822a5685990a",
   "metadata": {},
   "outputs": [
    {
     "data": {
      "text/plain": [
       "'HELLO,HI,HI'"
      ]
     },
     "execution_count": 41,
     "metadata": {},
     "output_type": "execute_result"
    }
   ],
   "source": [
    "a1"
   ]
  },
  {
   "cell_type": "code",
   "execution_count": 42,
   "id": "bdab6302-1ac6-48c4-ac4f-d1b1306cdad3",
   "metadata": {},
   "outputs": [
    {
     "data": {
      "text/plain": [
       "'hello,hi,hi'"
      ]
     },
     "execution_count": 42,
     "metadata": {},
     "output_type": "execute_result"
    }
   ],
   "source": [
    "a1.lower()"
   ]
  },
  {
   "cell_type": "code",
   "execution_count": 44,
   "id": "bdb3e003-c8f7-4370-9a99-553d10787fb0",
   "metadata": {},
   "outputs": [
    {
     "data": {
      "text/plain": [
       "'Hello,hi,hi'"
      ]
     },
     "execution_count": 44,
     "metadata": {},
     "output_type": "execute_result"
    }
   ],
   "source": [
    "a1.capitalize()"
   ]
  },
  {
   "cell_type": "code",
   "execution_count": 45,
   "id": "4f669c9a-68bf-48ae-8e68-0513bd2be93a",
   "metadata": {},
   "outputs": [],
   "source": [
    "a= ' hi '"
   ]
  },
  {
   "cell_type": "code",
   "execution_count": 46,
   "id": "528b9e65-2498-4579-b685-474013fb5816",
   "metadata": {},
   "outputs": [
    {
     "data": {
      "text/plain": [
       "' hi '"
      ]
     },
     "execution_count": 46,
     "metadata": {},
     "output_type": "execute_result"
    }
   ],
   "source": [
    "a"
   ]
  },
  {
   "cell_type": "code",
   "execution_count": 47,
   "id": "b93fb878-e62f-41a3-b143-23c12b3b5776",
   "metadata": {},
   "outputs": [
    {
     "data": {
      "text/plain": [
       "'hi'"
      ]
     },
     "execution_count": 47,
     "metadata": {},
     "output_type": "execute_result"
    }
   ],
   "source": [
    "a.strip()"
   ]
  },
  {
   "cell_type": "code",
   "execution_count": 51,
   "id": "956860e0-4848-4c19-9239-45d29f5329e3",
   "metadata": {},
   "outputs": [],
   "source": [
    "d = \"Life is too short.\""
   ]
  },
  {
   "cell_type": "code",
   "execution_count": 54,
   "id": "9f61940b-072b-4649-869d-59a7b3f701f6",
   "metadata": {},
   "outputs": [
    {
     "data": {
      "text/plain": [
       "'Life is short.'"
      ]
     },
     "execution_count": 54,
     "metadata": {},
     "output_type": "execute_result"
    }
   ],
   "source": [
    "d.replace(\"too \",\"\")"
   ]
  },
  {
   "cell_type": "code",
   "execution_count": 55,
   "id": "6f3623c1-4fdd-4ea5-aec9-3f101f38d49c",
   "metadata": {},
   "outputs": [],
   "source": [
    "e = [1, 2, ['Life', 'is']]"
   ]
  },
  {
   "cell_type": "code",
   "execution_count": 56,
   "id": "b4511439-9261-492e-bfe2-9839b1096492",
   "metadata": {},
   "outputs": [
    {
     "data": {
      "text/plain": [
       "list"
      ]
     },
     "execution_count": 56,
     "metadata": {},
     "output_type": "execute_result"
    }
   ],
   "source": [
    "type(e)"
   ]
  },
  {
   "cell_type": "code",
   "execution_count": 58,
   "id": "b596bd17-85c6-4d47-a0fd-b9f33d2a7107",
   "metadata": {},
   "outputs": [
    {
     "data": {
      "text/plain": [
       "'Life'"
      ]
     },
     "execution_count": 58,
     "metadata": {},
     "output_type": "execute_result"
    }
   ],
   "source": [
    "e[2][0]"
   ]
  },
  {
   "cell_type": "code",
   "execution_count": 59,
   "id": "cc7ef290-a3bd-484b-802b-0cec8e3862ac",
   "metadata": {},
   "outputs": [],
   "source": [
    "a=[1,2,3]\n",
    "b=[4,5,6]"
   ]
  },
  {
   "cell_type": "code",
   "execution_count": 60,
   "id": "3f8f70cf-b980-4180-a3f9-ce27bc65449a",
   "metadata": {},
   "outputs": [
    {
     "data": {
      "text/plain": [
       "[1, 2, 3, 4, 5, 6]"
      ]
     },
     "execution_count": 60,
     "metadata": {},
     "output_type": "execute_result"
    }
   ],
   "source": [
    "a +b"
   ]
  },
  {
   "cell_type": "code",
   "execution_count": 61,
   "id": "69ba5ea5-0a0a-4335-a0f7-9a6bff318a1c",
   "metadata": {},
   "outputs": [
    {
     "data": {
      "text/plain": [
       "[1, 2, 3, 1, 2, 3, 1, 2, 3]"
      ]
     },
     "execution_count": 61,
     "metadata": {},
     "output_type": "execute_result"
    }
   ],
   "source": [
    "a * 3"
   ]
  },
  {
   "cell_type": "code",
   "execution_count": 62,
   "id": "2c21febe-736a-440e-bf30-4ec7953f0e6a",
   "metadata": {},
   "outputs": [
    {
     "data": {
      "text/plain": [
       "3"
      ]
     },
     "execution_count": 62,
     "metadata": {},
     "output_type": "execute_result"
    }
   ],
   "source": [
    "len(a)"
   ]
  },
  {
   "cell_type": "code",
   "execution_count": 66,
   "id": "53d9cbdd-74f5-4cc7-bbc7-1a273c460a06",
   "metadata": {},
   "outputs": [],
   "source": [
    "a=[1,2,3]\n",
    "a[2]=4"
   ]
  },
  {
   "cell_type": "code",
   "execution_count": 67,
   "id": "2e3abb13-da17-4317-b69f-b0c29b27816b",
   "metadata": {},
   "outputs": [
    {
     "data": {
      "text/plain": [
       "[1, 2, 4]"
      ]
     },
     "execution_count": 67,
     "metadata": {},
     "output_type": "execute_result"
    }
   ],
   "source": [
    "a"
   ]
  },
  {
   "cell_type": "code",
   "execution_count": 68,
   "id": "4f0cd2b1-9175-46f7-b9cc-e322cf52e6df",
   "metadata": {},
   "outputs": [],
   "source": [
    "del a[1]"
   ]
  },
  {
   "cell_type": "code",
   "execution_count": 69,
   "id": "cc8ddbdb-1390-412f-9321-5ba3687a67ee",
   "metadata": {},
   "outputs": [
    {
     "data": {
      "text/plain": [
       "[1, 4]"
      ]
     },
     "execution_count": 69,
     "metadata": {},
     "output_type": "execute_result"
    }
   ],
   "source": [
    "a"
   ]
  },
  {
   "cell_type": "code",
   "execution_count": 70,
   "id": "fb59e600-4583-4e08-8206-51877efaa4df",
   "metadata": {},
   "outputs": [],
   "source": [
    "a=[1,2,3]"
   ]
  },
  {
   "cell_type": "code",
   "execution_count": 71,
   "id": "d6a4398d-b052-4bd1-b257-c15b8f90d35b",
   "metadata": {},
   "outputs": [],
   "source": [
    "a.append(4)"
   ]
  },
  {
   "cell_type": "code",
   "execution_count": 72,
   "id": "e4873b9b-11c2-4ebb-ac45-ab5c432b37df",
   "metadata": {},
   "outputs": [
    {
     "data": {
      "text/plain": [
       "[1, 2, 3, 4]"
      ]
     },
     "execution_count": 72,
     "metadata": {},
     "output_type": "execute_result"
    }
   ],
   "source": [
    "a"
   ]
  },
  {
   "cell_type": "code",
   "execution_count": 73,
   "id": "ebaa5bff-c9ea-4f0d-aaea-fbfd86f86419",
   "metadata": {},
   "outputs": [],
   "source": [
    "a.append([5,6])"
   ]
  },
  {
   "cell_type": "code",
   "execution_count": 74,
   "id": "3ab84362-49db-430b-933a-e6e9fa603f0f",
   "metadata": {},
   "outputs": [
    {
     "data": {
      "text/plain": [
       "[1, 2, 3, 4, [5, 6]]"
      ]
     },
     "execution_count": 74,
     "metadata": {},
     "output_type": "execute_result"
    }
   ],
   "source": [
    "a"
   ]
  },
  {
   "cell_type": "code",
   "execution_count": 75,
   "id": "6bf4ec1f-a6e0-4472-87c3-c62457af27a6",
   "metadata": {},
   "outputs": [],
   "source": [
    "a.extend([7,8])"
   ]
  },
  {
   "cell_type": "code",
   "execution_count": 76,
   "id": "e12abb3e-f95b-4e5a-acbd-ff0f66809440",
   "metadata": {},
   "outputs": [
    {
     "data": {
      "text/plain": [
       "[1, 2, 3, 4, [5, 6], 7, 8]"
      ]
     },
     "execution_count": 76,
     "metadata": {},
     "output_type": "execute_result"
    }
   ],
   "source": [
    "a"
   ]
  },
  {
   "cell_type": "code",
   "execution_count": 77,
   "id": "8812e1f6-3ac9-498d-a101-2b66c19ca40a",
   "metadata": {},
   "outputs": [],
   "source": [
    "a=[1,3,4,5,6,7,8,999,9,5636,325]"
   ]
  },
  {
   "cell_type": "code",
   "execution_count": 81,
   "id": "428c02c4-531b-48d5-86ad-6d0a6752dfdc",
   "metadata": {},
   "outputs": [],
   "source": [
    "a.sort(reverse=True)"
   ]
  },
  {
   "cell_type": "code",
   "execution_count": 82,
   "id": "f79b178b-de0d-472a-893f-b756799ae7ec",
   "metadata": {},
   "outputs": [
    {
     "data": {
      "text/plain": [
       "[5636, 999, 325, 9, 8, 7, 6, 5, 4, 3, 1]"
      ]
     },
     "execution_count": 82,
     "metadata": {},
     "output_type": "execute_result"
    }
   ],
   "source": [
    "a"
   ]
  },
  {
   "cell_type": "code",
   "execution_count": 83,
   "id": "7ea5be3b-fae2-47d9-9916-dfff236370e8",
   "metadata": {},
   "outputs": [],
   "source": [
    "a.reverse()"
   ]
  },
  {
   "cell_type": "code",
   "execution_count": 84,
   "id": "3f7ef7eb-159e-4d3d-a623-770f4beaeefc",
   "metadata": {},
   "outputs": [
    {
     "data": {
      "text/plain": [
       "[1, 3, 4, 5, 6, 7, 8, 9, 325, 999, 5636]"
      ]
     },
     "execution_count": 84,
     "metadata": {},
     "output_type": "execute_result"
    }
   ],
   "source": [
    "a"
   ]
  },
  {
   "cell_type": "code",
   "execution_count": 85,
   "id": "8dacee2e-dcb5-41cb-9888-79c7ea8b35ea",
   "metadata": {},
   "outputs": [
    {
     "data": {
      "text/plain": [
       "3"
      ]
     },
     "execution_count": 85,
     "metadata": {},
     "output_type": "execute_result"
    }
   ],
   "source": [
    "a.index(5)"
   ]
  },
  {
   "cell_type": "code",
   "execution_count": 86,
   "id": "c8a68942-36cb-4a2c-ae59-012cc7b68fc5",
   "metadata": {},
   "outputs": [
    {
     "data": {
      "text/plain": [
       "[1, 3, 4, 5, 6, 7, 8, 9, 325, 999, 5636]"
      ]
     },
     "execution_count": 86,
     "metadata": {},
     "output_type": "execute_result"
    }
   ],
   "source": [
    "a"
   ]
  },
  {
   "cell_type": "code",
   "execution_count": 87,
   "id": "3ddfb6dd-1676-431a-8811-80909f62114f",
   "metadata": {},
   "outputs": [],
   "source": [
    "a.insert(1,10)"
   ]
  },
  {
   "cell_type": "code",
   "execution_count": 88,
   "id": "c773645f-d3d0-4e7e-a31a-db0364ea31c8",
   "metadata": {},
   "outputs": [
    {
     "data": {
      "text/plain": [
       "[1, 10, 3, 4, 5, 6, 7, 8, 9, 325, 999, 5636]"
      ]
     },
     "execution_count": 88,
     "metadata": {},
     "output_type": "execute_result"
    }
   ],
   "source": [
    "a"
   ]
  },
  {
   "cell_type": "code",
   "execution_count": 91,
   "id": "92c48a8d-ee5a-494f-b7de-e5a5a0d62f3d",
   "metadata": {},
   "outputs": [
    {
     "data": {
      "text/plain": [
       "[1, 2, 2, 3, 1]"
      ]
     },
     "execution_count": 91,
     "metadata": {},
     "output_type": "execute_result"
    }
   ],
   "source": [
    "a=[1,2,3,2,3,1]\n",
    "a.remove(3)\n",
    "a"
   ]
  },
  {
   "cell_type": "code",
   "execution_count": 92,
   "id": "4ecc2a72-fb37-4954-931e-72b6db15855d",
   "metadata": {},
   "outputs": [],
   "source": [
    "a=[1,2,3]"
   ]
  },
  {
   "cell_type": "code",
   "execution_count": 93,
   "id": "bc3517e4-c18d-41f3-a730-388b8e3a9b4d",
   "metadata": {},
   "outputs": [
    {
     "data": {
      "text/plain": [
       "3"
      ]
     },
     "execution_count": 93,
     "metadata": {},
     "output_type": "execute_result"
    }
   ],
   "source": [
    "a.pop()"
   ]
  },
  {
   "cell_type": "code",
   "execution_count": 94,
   "id": "aebc3a1e-5322-4342-81e2-d7f7161ec82b",
   "metadata": {},
   "outputs": [
    {
     "data": {
      "text/plain": [
       "2"
      ]
     },
     "execution_count": 94,
     "metadata": {},
     "output_type": "execute_result"
    }
   ],
   "source": [
    "a.pop()"
   ]
  },
  {
   "cell_type": "code",
   "execution_count": 95,
   "id": "871ed85e-a2a4-4f87-931d-744da1119069",
   "metadata": {},
   "outputs": [
    {
     "data": {
      "text/plain": [
       "1"
      ]
     },
     "execution_count": 95,
     "metadata": {},
     "output_type": "execute_result"
    }
   ],
   "source": [
    "a.pop()"
   ]
  },
  {
   "cell_type": "code",
   "execution_count": 96,
   "id": "39fe642a-b506-48ee-9d42-5738fa534a96",
   "metadata": {},
   "outputs": [],
   "source": [
    "a = [1,2,3,2,1]"
   ]
  },
  {
   "cell_type": "code",
   "execution_count": 97,
   "id": "a73f1d4f-6aa5-4998-9ed2-a52038b6b845",
   "metadata": {},
   "outputs": [
    {
     "data": {
      "text/plain": [
       "3"
      ]
     },
     "execution_count": 97,
     "metadata": {},
     "output_type": "execute_result"
    }
   ],
   "source": [
    "a.pop(2)"
   ]
  },
  {
   "cell_type": "code",
   "execution_count": 98,
   "id": "f8c1013c-94f5-4050-8afc-99002f9fc43b",
   "metadata": {},
   "outputs": [],
   "source": [
    "t = 1,2,3"
   ]
  },
  {
   "cell_type": "code",
   "execution_count": 99,
   "id": "77ebd08e-91a9-4a4b-8e83-bd282ea83572",
   "metadata": {},
   "outputs": [
    {
     "data": {
      "text/plain": [
       "(1, 2, 3)"
      ]
     },
     "execution_count": 99,
     "metadata": {},
     "output_type": "execute_result"
    }
   ],
   "source": [
    "t"
   ]
  },
  {
   "cell_type": "code",
   "execution_count": 100,
   "id": "abb35553-458a-4dc5-aa41-102103bc3e2e",
   "metadata": {},
   "outputs": [],
   "source": [
    "dic = {'name':'pey', 'phone':'0119993323', 'birth': '1118'}"
   ]
  },
  {
   "cell_type": "code",
   "execution_count": 101,
   "id": "ada697e4-29f5-4e86-8776-3c8724bda868",
   "metadata": {},
   "outputs": [
    {
     "data": {
      "text/plain": [
       "'pey'"
      ]
     },
     "execution_count": 101,
     "metadata": {},
     "output_type": "execute_result"
    }
   ],
   "source": [
    "dic['name']"
   ]
  },
  {
   "cell_type": "code",
   "execution_count": 102,
   "id": "5821cad3-6ff8-428b-9017-44a72d839c32",
   "metadata": {},
   "outputs": [
    {
     "data": {
      "text/plain": [
       "{'name': 'pey', 'phone': '0119993323', 'birth': '1118'}"
      ]
     },
     "execution_count": 102,
     "metadata": {},
     "output_type": "execute_result"
    }
   ],
   "source": [
    "dic"
   ]
  },
  {
   "cell_type": "code",
   "execution_count": 103,
   "id": "1cc91cc1-fcdd-4c79-8612-e2d468ef4a18",
   "metadata": {},
   "outputs": [
    {
     "data": {
      "text/plain": [
       "dict_keys(['name', 'phone', 'birth'])"
      ]
     },
     "execution_count": 103,
     "metadata": {},
     "output_type": "execute_result"
    }
   ],
   "source": [
    "dic.keys()"
   ]
  },
  {
   "cell_type": "code",
   "execution_count": 104,
   "id": "69064f34-2c63-4f13-9f06-7513e12eabca",
   "metadata": {},
   "outputs": [],
   "source": [
    "dic[(1,2)]=[2,3,4,5]"
   ]
  },
  {
   "cell_type": "code",
   "execution_count": 105,
   "id": "fa6fd4e9-3ff1-45f2-b3ad-97cbfcc746cc",
   "metadata": {},
   "outputs": [
    {
     "data": {
      "text/plain": [
       "{'name': 'pey', 'phone': '0119993323', 'birth': '1118', (1, 2): [2, 3, 4, 5]}"
      ]
     },
     "execution_count": 105,
     "metadata": {},
     "output_type": "execute_result"
    }
   ],
   "source": [
    "dic"
   ]
  },
  {
   "cell_type": "code",
   "execution_count": 106,
   "id": "ef46b8a9-4c36-40bf-9c45-62553f9a34dc",
   "metadata": {},
   "outputs": [
    {
     "data": {
      "text/plain": [
       "dict_values(['pey', '0119993323', '1118', [2, 3, 4, 5]])"
      ]
     },
     "execution_count": 106,
     "metadata": {},
     "output_type": "execute_result"
    }
   ],
   "source": [
    "dic.values()"
   ]
  },
  {
   "cell_type": "code",
   "execution_count": 107,
   "id": "eb4908f6-f854-4219-a5ea-6db91fb339e0",
   "metadata": {},
   "outputs": [],
   "source": [
    "a= [1,2,3,4,2,3,4,5]"
   ]
  },
  {
   "cell_type": "code",
   "execution_count": 108,
   "id": "11a3a40d-17f8-4e39-9215-01ce4436f893",
   "metadata": {},
   "outputs": [],
   "source": [
    "s1=set(a)"
   ]
  },
  {
   "cell_type": "code",
   "execution_count": 109,
   "id": "8ca6e401-d54e-4d66-9294-bde8dcc46a5d",
   "metadata": {},
   "outputs": [
    {
     "data": {
      "text/plain": [
       "{1, 2, 3, 4, 5}"
      ]
     },
     "execution_count": 109,
     "metadata": {},
     "output_type": "execute_result"
    }
   ],
   "source": [
    "s1"
   ]
  },
  {
   "cell_type": "code",
   "execution_count": 115,
   "id": "9b03a9b5-b976-491f-be34-90cb720ff357",
   "metadata": {
    "tags": []
   },
   "outputs": [
    {
     "name": "stdout",
     "output_type": "stream",
     "text": [
      "1\n",
      "2\n",
      "3\n",
      "4\n",
      "5\n"
     ]
    }
   ],
   "source": [
    "for i in [1,2,3,4,5]:\n",
    "    print(i)"
   ]
  },
  {
   "cell_type": "code",
   "execution_count": 112,
   "id": "732d388d-f547-446a-8221-28ddb26f9902",
   "metadata": {
    "tags": []
   },
   "outputs": [
    {
     "name": "stdout",
     "output_type": "stream",
     "text": [
      "0\n",
      "1\n",
      "2\n",
      "3\n",
      "4\n",
      "5\n",
      "6\n",
      "7\n",
      "8\n",
      "9\n"
     ]
    }
   ],
   "source": [
    "for i in range(10):\n",
    "    print(i)"
   ]
  },
  {
   "cell_type": "code",
   "execution_count": 114,
   "id": "f0638fa8-3651-484d-b68a-e68706f73ab9",
   "metadata": {
    "tags": []
   },
   "outputs": [
    {
     "name": "stdout",
     "output_type": "stream",
     "text": [
      "0 a\n",
      "1 b\n",
      "2 c\n"
     ]
    }
   ],
   "source": [
    "for i, data in enumerate(['a','b','c']):\n",
    "    print(i,data)"
   ]
  },
  {
   "cell_type": "code",
   "execution_count": 117,
   "id": "9227780b-70a2-41e7-94b8-6e2131fd7fbb",
   "metadata": {},
   "outputs": [
    {
     "name": "stdout",
     "output_type": "stream",
     "text": [
      "[3, 6, 9, 12]\n"
     ]
    }
   ],
   "source": [
    "a = [1,2,3,4]\n",
    "result = [num *3 for num in a]\n",
    "print(result)"
   ]
  },
  {
   "cell_type": "code",
   "execution_count": null,
   "id": "6f59ddd0-50e3-4ecf-9ab7-6ef8bb9fe50b",
   "metadata": {},
   "outputs": [],
   "source": []
  }
 ],
 "metadata": {
  "kernelspec": {
   "display_name": "Python 3 (ipykernel)",
   "language": "python",
   "name": "python3"
  },
  "language_info": {
   "codemirror_mode": {
    "name": "ipython",
    "version": 3
   },
   "file_extension": ".py",
   "mimetype": "text/x-python",
   "name": "python",
   "nbconvert_exporter": "python",
   "pygments_lexer": "ipython3",
   "version": "3.9.7"
  }
 },
 "nbformat": 4,
 "nbformat_minor": 5
}
