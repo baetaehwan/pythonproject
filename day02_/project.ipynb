{
 "cells": [
  {
   "cell_type": "raw",
   "id": "ac5481d4-b877-4b56-b678-5caf0bd0a696",
   "metadata": {},
   "source": [
    "project1\n",
    "학생 관리프로그램\n",
    "1.학생추가 2.정보수정 3.삭제 4.학생목록 5.종료\n",
    "-학생추가: 성명과 학번 입력 저장(번호 7자리 에러)\n",
    "-정보수정: 변경된 학번 입력 저장(번호 7자리 에러)\n",
    "-삭제: 학번를 확인하고 삭제\n",
    "-학생목록: 저장된 성명과 연락처 출력(이름순)\n",
    "-프로그램종료: 종료"
   ]
  },
  {
   "cell_type": "code",
   "execution_count": null,
   "id": "04b666fc-1ddd-49e3-a2d2-cfb4fc52acbe",
   "metadata": {},
   "outputs": [
    {
     "name": "stdin",
     "output_type": "stream",
     "text": [
      "\n",
      "===========================================\n",
      "1.학생추가 2.정보수정 3.삭제 4.학생목록 5.종료\n",
      "===========================================\n",
      "메뉴선택>>> 3\n"
     ]
    },
    {
     "name": "stdout",
     "output_type": "stream",
     "text": [
      "이름 : ['홍길동', '김철수', '박영미', '배태환', '김효경']\n"
     ]
    },
    {
     "name": "stdin",
     "output_type": "stream",
     "text": [
      "삭제할 학생을 입력하세요>>> 배태환\n",
      "\n",
      "===========================================\n",
      "1.학생추가 2.정보수정 3.삭제 4.학생목록 5.종료\n",
      "===========================================\n",
      "메뉴선택>>> 4\n"
     ]
    },
    {
     "name": "stdout",
     "output_type": "stream",
     "text": [
      "student--number\n",
      "김철수 : 2345678\n",
      "김효경 : 5678912\n",
      "박영미 : 3456789\n",
      "홍길동 : 1234567\n"
     ]
    }
   ],
   "source": [
    "import json\n",
    "\n",
    "# student = {'홍길동':1234567, '김철수': 2345678, '박영미': 3456789}\n",
    "\n",
    "with open('student.json','r') as f:\n",
    "    json.load(f)\n",
    "    \n",
    "while True:\n",
    "    choice = input('''\n",
    "===========================================\n",
    "1.학생추가 2.정보수정 3.삭제 4.학생목록 5.종료\n",
    "===========================================\n",
    "메뉴선택>>>''')\n",
    "    if choice == '1':\n",
    "        print('이름 :',list(student.keys()))\n",
    "        name = input('추가할 성명을 기입하세요 >>>')\n",
    "        while True:\n",
    "            number = input('추가할 학번를 기입하세요 >>>')\n",
    "            if len(number) == 7:\n",
    "                student[name]=number\n",
    "                break\n",
    "            else:\n",
    "                print('잘못입력하셨습니다')\n",
    "                with open('student.json','w') as f:\n",
    "                    json.dump(student,f)\n",
    "    elif choice == '2':\n",
    "        print('이름 :',list(student.keys()))\n",
    "        name = ''\n",
    "        while not name in student.keys():\n",
    "            name = input('수정할 학생을 입력하세요 >>>')\n",
    "        number= ''\n",
    "        while not number.isdecimal():\n",
    "            while True:\n",
    "                number = input('수정할 번호를 기입하세요 >>>')\n",
    "                if len(number) == 7:\n",
    "                    student[name]=number\n",
    "                    break\n",
    "                else:\n",
    "                    print('잘못입력하셨습니다')\n",
    "                    with open('student.json','w') as f:\n",
    "                        json.dump(student,f)\n",
    "    elif choice == '3':\n",
    "        print('이름 :',list(student.keys()))\n",
    "        name = ''\n",
    "        while not name in student.keys():\n",
    "            name = input('삭제할 학생을 입력하세요>>>')\n",
    "        del student[name]\n",
    "    elif choice == '4':\n",
    "        print('student--number')\n",
    "        for item in sorted(student.items(),key=lambda x:x[0]):\n",
    "            print(f'{item[0]} : {item[1]:}')\n",
    "    elif choice == '5':\n",
    "        print('프로그램을 종료합니다.')\n",
    "        with open('student.json','w') as f:\n",
    "            json.dump(student,f)\n",
    "        break\n",
    "    else:\n",
    "        print('잘못입력하셨습니다.')\n",
    "        "
   ]
  },
  {
   "cell_type": "code",
   "execution_count": null,
   "id": "b49ee32f-8a75-49d0-ac58-c00aaa367aec",
   "metadata": {},
   "outputs": [],
   "source": []
  },
  {
   "cell_type": "code",
   "execution_count": null,
   "id": "b0225566-4eb3-4f20-a866-6a1dcecea42f",
   "metadata": {},
   "outputs": [],
   "source": []
  }
 ],
 "metadata": {
  "kernelspec": {
   "display_name": "Python 3 (ipykernel)",
   "language": "python",
   "name": "python3"
  },
  "language_info": {
   "codemirror_mode": {
    "name": "ipython",
    "version": 3
   },
   "file_extension": ".py",
   "mimetype": "text/x-python",
   "name": "python",
   "nbconvert_exporter": "python",
   "pygments_lexer": "ipython3",
   "version": "3.9.7"
  }
 },
 "nbformat": 4,
 "nbformat_minor": 5
}
