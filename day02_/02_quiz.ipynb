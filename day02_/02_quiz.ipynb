{
 "cells": [
  {
   "cell_type": "raw",
   "id": "51404e22-2432-47e4-9184-88867f05c092",
   "metadata": {},
   "source": [
    "quiz 01>\n",
    "주민등록번호 14자리를 입력받아서 성별을 체크합니다.\n",
    "프로그램 종료는 (q,Q)를 누를때 까지 반복처리합니다.\n",
    "입력예: 123456-1234567\n",
    "조건처리: *길이값체크\n",
    "          *성별체크(기능값: 1,2,3,4)\n",
    "출력: 여성입니다. or 남성입니다. "
   ]
  },
  {
   "cell_type": "code",
   "execution_count": 34,
   "id": "479c08a9-1cc3-4d99-9fec-d1d21dae77ef",
   "metadata": {},
   "outputs": [
    {
     "name": "stdin",
     "output_type": "stream",
     "text": [
      "주민등록번호 14자리>> 123456-1234567\n"
     ]
    }
   ],
   "source": [
    "a = input('주민등록번호 14자리>>')"
   ]
  },
  {
   "cell_type": "code",
   "execution_count": 38,
   "id": "e674eebe-7c3e-41db-9421-91155f8ab075",
   "metadata": {},
   "outputs": [
    {
     "ename": "SyntaxError",
     "evalue": "invalid syntax (Temp/ipykernel_4288/3580184535.py, line 2)",
     "output_type": "error",
     "traceback": [
      "\u001b[1;36m  File \u001b[1;32m\"C:\\Users\\Admin\\AppData\\Local\\Temp/ipykernel_4288/3580184535.py\"\u001b[1;36m, line \u001b[1;32m2\u001b[0m\n\u001b[1;33m    while a[7]==1,2,3 or4\u001b[0m\n\u001b[1;37m                 ^\u001b[0m\n\u001b[1;31mSyntaxError\u001b[0m\u001b[1;31m:\u001b[0m invalid syntax\n"
     ]
    }
   ],
   "source": [
    "if len(a)==14:\n",
    "    while a[7]==1,2,3 or4\n",
    "        if a[7]=1 or 3:\n",
    "            print('남성입니다.')\n",
    "        else a[7]=2 or 4:\n",
    "            print('여성입니다.')\n",
    "else:\n",
    "    print('다시 입력해주세요.')"
   ]
  },
  {
   "cell_type": "code",
   "execution_count": 39,
   "id": "cf4ff7c9-c369-4c7c-91a8-04a36c6e844c",
   "metadata": {},
   "outputs": [
    {
     "name": "stdin",
     "output_type": "stream",
     "text": [
      "주민등록번호 입력(14자리,종료:q,Q >>> 123156879456\n"
     ]
    },
    {
     "name": "stdout",
     "output_type": "stream",
     "text": [
      "입력 문자의 길이가 안맞거나, 성별값의 범위가 아닙니다.\n"
     ]
    },
    {
     "name": "stdin",
     "output_type": "stream",
     "text": [
      "주민등록번호 입력(14자리,종료:q,Q >>> q\n"
     ]
    },
    {
     "name": "stdout",
     "output_type": "stream",
     "text": [
      "프로그램 종료\n"
     ]
    }
   ],
   "source": [
    "while True:\n",
    "    invalue = input('주민등록번호 입력(14자리,종료:q,Q >>>')\n",
    "    if len(invalue) == 1 and invalue.lower() == 'q':\n",
    "        print('프로그램 종료')\n",
    "        break\n",
    "    elif len(invalue) == 14and invalue[6] == '-' and invalue[7] in ['1','2','3','4']:\n",
    "        if invalue[7] in ['1','3']:\n",
    "            print('남성입니다.')\n",
    "        else:\n",
    "            print('여성입니다.')\n",
    "    else:\n",
    "        print('입력 문자의 길이가 안맞거나, 성별값의 범위가 아닙니다.')\n",
    "        "
   ]
  },
  {
   "cell_type": "raw",
   "id": "6dbce453-e0f7-4b64-8de7-239425559968",
   "metadata": {},
   "source": [
    "quiz 02>\n",
    "로또 번호 추출기\n",
    "총 5셋트의 번호를 추출합니다.\n",
    "한 세트당 번호는 6개 입니다.\n",
    "번호의 범위는 1~45 사이의 번호만 가능합니다.\n",
    "번호는 중복되면 안 됩니다.\n",
    "번호를 출력 시 오른차순으로 정렬해서 출력합니다."
   ]
  },
  {
   "cell_type": "code",
   "execution_count": 310,
   "id": "d5bece73-e721-47c7-8574-9a7b2612fe03",
   "metadata": {},
   "outputs": [
    {
     "data": {
      "text/plain": [
       "{1, 14, 19, 27, 39, 44}"
      ]
     },
     "execution_count": 310,
     "metadata": {},
     "output_type": "execute_result"
    }
   ],
   "source": [
    "\n",
    "    import random\n",
    "    a = random.randint(1,45)\n",
    "    b = random.randint(1,45)\n",
    "    c = random.randint(1,45)\n",
    "    d = random.randint(1,45)\n",
    "    e = random.randint(1,45)\n",
    "    f = random.randint(1,45)\n",
    "    i = [a,b,c,d,e,f]\n",
    "    i.sort()\n",
    "\n",
    "    if len(set(i)) != 6:\n",
    "        print('다시')\n",
    "    else:\n",
    "        result = set(i)\n",
    "\n",
    "    result"
   ]
  },
  {
   "cell_type": "code",
   "execution_count": 298,
   "id": "7e5dc128-907f-41dc-b684-67aae08b08ae",
   "metadata": {},
   "outputs": [
    {
     "name": "stdout",
     "output_type": "stream",
     "text": [
      "[6, 8, 13, 28, 32, 37]\n",
      "[17, 21, 23, 24, 26, 40]\n",
      "[12, 23, 25, 28, 30, 33]\n",
      "[2, 27, 30, 38, 40, 44]\n",
      "[3, 12, 22, 25, 27, 34]\n"
     ]
    }
   ],
   "source": [
    "for i in range(5):\n",
    "    lotto = [0,0,0,0,0,0]\n",
    "    for x in range(6):\n",
    "        num = 0\n",
    "        while (num in lotto):\n",
    "            num = random.randint(1,45)\n",
    "        lotto[x]=num\n",
    "    lotto.sort()\n",
    "    print(lotto)"
   ]
  },
  {
   "cell_type": "code",
   "execution_count": 294,
   "id": "000b61df-76b0-4899-858f-a97e41748e94",
   "metadata": {},
   "outputs": [
    {
     "name": "stdout",
     "output_type": "stream",
     "text": [
      "[6, 7, 15, 24, 26, 35]\n",
      "[4, 9, 14, 21, 23, 32]\n",
      "[3, 11, 15, 19, 28, 45]\n",
      "[11, 14, 16, 25, 29, 35]\n",
      "[4, 35, 39, 41, 42, 44]\n"
     ]
    }
   ],
   "source": [
    "for i in range(5):\n",
    "    lotto=random.sample(range(1,46),6)\n",
    "    lotto.sort()\n",
    "    print(lotto)"
   ]
  },
  {
   "cell_type": "raw",
   "id": "4f078bd6-631b-463d-b1c0-68c30d005c52",
   "metadata": {},
   "source": [
    "quiz 03> 커피메뉴 관리프로그램\n",
    "데이터 저장은 딕셔너리로.. {'메뉴명':가격, 'coffee':2000}\n",
    "프로그램에서 사용할 메뉴\n",
    "1. 메뉴입력 2. 메뉴수정 3.메뉴목록 4.메뉴삭제 5.프로그램종료\n",
    "-메뉴입력: 메뉴명과 가격을 입력받아서 저장\n",
    "-메뉴수정: 메뉴명을 확인하고 있는 메뉴에 가격을 입력받아 수정\n",
    "-메뉴목록: 저장된 메뉴명과 가격을 출력(천단위구분기호표기),메뉴명 순서대로 출력\n",
    "-메뉴삭제: 메뉴명을 확인하고 있는 메뉴에서 삭제\n",
    "-프로그램종료: 프로그램을 종료하는 메세지를 출력하고 종료\n",
    "-메뉴1~5까지만 입력받고 다른 값이 들어오면 관련 에러 메세지를 출력한다.\n",
    "-가격은 숫자로 입력해야 됨."
   ]
  },
  {
   "cell_type": "code",
   "execution_count": 311,
   "id": "e9d5416b-3aae-40c6-b399-b656a8ec6d71",
   "metadata": {},
   "outputs": [],
   "source": [
    "# sorted()\n",
    "list1=[5,2,3,1,4]\n",
    "dict1={'아이스아메리카노':3000,'라떼':4000,'코코아':3500}"
   ]
  },
  {
   "cell_type": "code",
   "execution_count": 326,
   "id": "5f929741-fcdc-4acd-94b3-3ec64f0c079e",
   "metadata": {},
   "outputs": [
    {
     "data": {
      "text/plain": [
       "[1, 2, 3, 4, 5]"
      ]
     },
     "execution_count": 326,
     "metadata": {},
     "output_type": "execute_result"
    }
   ],
   "source": [
    "list1.sort()\n",
    "list1"
   ]
  },
  {
   "cell_type": "code",
   "execution_count": 315,
   "id": "b5cf8ef9-fb43-4dbc-bb03-6780f664201c",
   "metadata": {},
   "outputs": [
    {
     "data": {
      "text/plain": [
       "['라떼', '아이스아메리카노', '코코아']"
      ]
     },
     "execution_count": 315,
     "metadata": {},
     "output_type": "execute_result"
    }
   ],
   "source": [
    "sorted(dict1)"
   ]
  },
  {
   "cell_type": "code",
   "execution_count": 320,
   "id": "701ca39e-6d82-4d34-8aae-c512f35523b9",
   "metadata": {},
   "outputs": [
    {
     "data": {
      "text/plain": [
       "dict_items([('아이스아메리카노', 3000), ('라떼', 4000), ('코코아', 3500)])"
      ]
     },
     "execution_count": 320,
     "metadata": {},
     "output_type": "execute_result"
    }
   ],
   "source": [
    "dict1.items()"
   ]
  },
  {
   "cell_type": "code",
   "execution_count": 319,
   "id": "ed7b09f0-895f-4643-9ed4-0a350a2a5120",
   "metadata": {},
   "outputs": [
    {
     "data": {
      "text/plain": [
       "[('아이스아메리카노', 3000), ('코코아', 3500), ('라떼', 4000)]"
      ]
     },
     "execution_count": 319,
     "metadata": {},
     "output_type": "execute_result"
    }
   ],
   "source": [
    "sorted(dict1.items(),key=lambda data:data[1])"
   ]
  },
  {
   "cell_type": "code",
   "execution_count": 321,
   "id": "5f3b875f-0de2-47e7-bc4c-bf02995b4008",
   "metadata": {},
   "outputs": [],
   "source": [
    "student_tu = [('john','A',15),\n",
    "              ('jane','B',12),\n",
    "              ('dave','B',10)]"
   ]
  },
  {
   "cell_type": "code",
   "execution_count": 322,
   "id": "8c0283a6-13f1-427f-9c76-a9697fdaa188",
   "metadata": {},
   "outputs": [
    {
     "data": {
      "text/plain": [
       "[('dave', 'B', 10), ('jane', 'B', 12), ('john', 'A', 15)]"
      ]
     },
     "execution_count": 322,
     "metadata": {},
     "output_type": "execute_result"
    }
   ],
   "source": [
    "sorted(student_tu)"
   ]
  },
  {
   "cell_type": "code",
   "execution_count": 323,
   "id": "9b624103-2861-4933-9011-55b4038c8ee4",
   "metadata": {},
   "outputs": [
    {
     "data": {
      "text/plain": [
       "[('dave', 'B', 10), ('jane', 'B', 12), ('john', 'A', 15)]"
      ]
     },
     "execution_count": 323,
     "metadata": {},
     "output_type": "execute_result"
    }
   ],
   "source": [
    "sorted(student_tu,key=lambda x:x[2])"
   ]
  },
  {
   "cell_type": "code",
   "execution_count": 324,
   "id": "4305587f-81f0-4000-aff9-e52b820c1fde",
   "metadata": {},
   "outputs": [
    {
     "data": {
      "text/plain": [
       "[('john', 'A', 15), ('jane', 'B', 12), ('dave', 'B', 10)]"
      ]
     },
     "execution_count": 324,
     "metadata": {},
     "output_type": "execute_result"
    }
   ],
   "source": [
    "sorted(student_tu,key=lambda x:x[2],reverse=True)"
   ]
  },
  {
   "cell_type": "code",
   "execution_count": 329,
   "id": "5a7fee96-48e7-4556-8322-ea49c6d6c8fc",
   "metadata": {},
   "outputs": [
    {
     "data": {
      "text/plain": [
       "{'아이스아메리카노': 3000, '라떼': 4000, '코코아': 3500, '망고스무디': 4500}"
      ]
     },
     "execution_count": 329,
     "metadata": {},
     "output_type": "execute_result"
    }
   ],
   "source": [
    "menu = {'아이스아메리카노':3000,'라떼':4000,'코코아':3500}\n",
    "menu['망고스무디']=4500\n",
    "menu"
   ]
  },
  {
   "cell_type": "code",
   "execution_count": 33,
   "id": "0e8c96ad-eff7-4e74-8fcf-518c6034bdd0",
   "metadata": {},
   "outputs": [
    {
     "ename": "KeyboardInterrupt",
     "evalue": "Interrupted by user",
     "output_type": "error",
     "traceback": [
      "\u001b[1;31m---------------------------------------------------------------------------\u001b[0m",
      "\u001b[1;31mKeyboardInterrupt\u001b[0m                         Traceback (most recent call last)",
      "\u001b[1;32m~\\AppData\\Local\\Temp/ipykernel_1848/2868987514.py\u001b[0m in \u001b[0;36m<module>\u001b[1;34m\u001b[0m\n\u001b[1;32m----> 1\u001b[1;33m \u001b[0mlist\u001b[0m \u001b[1;33m=\u001b[0m \u001b[0minput\u001b[0m\u001b[1;33m(\u001b[0m\u001b[1;34m'옵션 번호를 선택하세요. \\n1.메뉴입력 2.메뉴수정 3.메뉴목록 4.메뉴삭제 5.프로그램종료 \\n'\u001b[0m\u001b[1;33m)\u001b[0m\u001b[1;33m\u001b[0m\u001b[1;33m\u001b[0m\u001b[0m\n\u001b[0m\u001b[0;32m      2\u001b[0m \u001b[0mmenu\u001b[0m \u001b[1;33m=\u001b[0m \u001b[1;33m{\u001b[0m\u001b[1;34m'아이스아메리카노'\u001b[0m\u001b[1;33m:\u001b[0m\u001b[1;36m3000\u001b[0m\u001b[1;33m,\u001b[0m\u001b[1;34m'라떼'\u001b[0m\u001b[1;33m:\u001b[0m\u001b[1;36m4000\u001b[0m\u001b[1;33m,\u001b[0m\u001b[1;34m'코코아'\u001b[0m\u001b[1;33m:\u001b[0m\u001b[1;36m3500\u001b[0m\u001b[1;33m}\u001b[0m\u001b[1;33m\u001b[0m\u001b[1;33m\u001b[0m\u001b[0m\n\u001b[0;32m      3\u001b[0m \u001b[1;33m\u001b[0m\u001b[0m\n\u001b[0;32m      4\u001b[0m \u001b[1;32mif\u001b[0m \u001b[0mlist\u001b[0m \u001b[1;33m==\u001b[0m \u001b[1;34m'1'\u001b[0m\u001b[1;33m:\u001b[0m\u001b[1;33m\u001b[0m\u001b[1;33m\u001b[0m\u001b[0m\n\u001b[0;32m      5\u001b[0m     \u001b[0madd1\u001b[0m \u001b[1;33m=\u001b[0m \u001b[0minput\u001b[0m\u001b[1;33m(\u001b[0m\u001b[1;34m'추가 메뉴'\u001b[0m\u001b[1;33m)\u001b[0m\u001b[1;33m\u001b[0m\u001b[1;33m\u001b[0m\u001b[0m\n",
      "\u001b[1;32m~\\anaconda3\\lib\\site-packages\\ipykernel\\kernelbase.py\u001b[0m in \u001b[0;36mraw_input\u001b[1;34m(self, prompt)\u001b[0m\n\u001b[0;32m   1004\u001b[0m                 \u001b[1;34m\"raw_input was called, but this frontend does not support input requests.\"\u001b[0m\u001b[1;33m\u001b[0m\u001b[1;33m\u001b[0m\u001b[0m\n\u001b[0;32m   1005\u001b[0m             )\n\u001b[1;32m-> 1006\u001b[1;33m         return self._input_request(\n\u001b[0m\u001b[0;32m   1007\u001b[0m             \u001b[0mstr\u001b[0m\u001b[1;33m(\u001b[0m\u001b[0mprompt\u001b[0m\u001b[1;33m)\u001b[0m\u001b[1;33m,\u001b[0m\u001b[1;33m\u001b[0m\u001b[1;33m\u001b[0m\u001b[0m\n\u001b[0;32m   1008\u001b[0m             \u001b[0mself\u001b[0m\u001b[1;33m.\u001b[0m\u001b[0m_parent_ident\u001b[0m\u001b[1;33m[\u001b[0m\u001b[1;34m\"shell\"\u001b[0m\u001b[1;33m]\u001b[0m\u001b[1;33m,\u001b[0m\u001b[1;33m\u001b[0m\u001b[1;33m\u001b[0m\u001b[0m\n",
      "\u001b[1;32m~\\anaconda3\\lib\\site-packages\\ipykernel\\kernelbase.py\u001b[0m in \u001b[0;36m_input_request\u001b[1;34m(self, prompt, ident, parent, password)\u001b[0m\n\u001b[0;32m   1049\u001b[0m             \u001b[1;32mexcept\u001b[0m \u001b[0mKeyboardInterrupt\u001b[0m\u001b[1;33m:\u001b[0m\u001b[1;33m\u001b[0m\u001b[1;33m\u001b[0m\u001b[0m\n\u001b[0;32m   1050\u001b[0m                 \u001b[1;31m# re-raise KeyboardInterrupt, to truncate traceback\u001b[0m\u001b[1;33m\u001b[0m\u001b[1;33m\u001b[0m\u001b[0m\n\u001b[1;32m-> 1051\u001b[1;33m                 \u001b[1;32mraise\u001b[0m \u001b[0mKeyboardInterrupt\u001b[0m\u001b[1;33m(\u001b[0m\u001b[1;34m\"Interrupted by user\"\u001b[0m\u001b[1;33m)\u001b[0m \u001b[1;32mfrom\u001b[0m \u001b[1;32mNone\u001b[0m\u001b[1;33m\u001b[0m\u001b[1;33m\u001b[0m\u001b[0m\n\u001b[0m\u001b[0;32m   1052\u001b[0m             \u001b[1;32mexcept\u001b[0m \u001b[0mException\u001b[0m\u001b[1;33m:\u001b[0m\u001b[1;33m\u001b[0m\u001b[1;33m\u001b[0m\u001b[0m\n\u001b[0;32m   1053\u001b[0m                 \u001b[0mself\u001b[0m\u001b[1;33m.\u001b[0m\u001b[0mlog\u001b[0m\u001b[1;33m.\u001b[0m\u001b[0mwarning\u001b[0m\u001b[1;33m(\u001b[0m\u001b[1;34m\"Invalid Message:\"\u001b[0m\u001b[1;33m,\u001b[0m \u001b[0mexc_info\u001b[0m\u001b[1;33m=\u001b[0m\u001b[1;32mTrue\u001b[0m\u001b[1;33m)\u001b[0m\u001b[1;33m\u001b[0m\u001b[1;33m\u001b[0m\u001b[0m\n",
      "\u001b[1;31mKeyboardInterrupt\u001b[0m: Interrupted by user"
     ]
    },
    {
     "name": "stdin",
     "output_type": "stream",
     "text": [
      "옵션 번호를 선택하세요. \n",
      "1.메뉴입력 2.메뉴수정 3.메뉴목록 4.메뉴삭제 5.프로그램종료 \n",
      " 3\n"
     ]
    }
   ],
   "source": [
    "list = input('옵션 번호를 선택하세요. \\n1.메뉴입력 2.메뉴수정 3.메뉴목록 4.메뉴삭제 5.프로그램종료 \\n')\n",
    "menu = {'아이스아메리카노':3000,'라떼':4000,'코코아':3500}\n",
    "\n",
    "if list == '1':\n",
    "    add1 = input('추가 메뉴')\n",
    "    add2 = input('메뉴 가격')\n",
    "    menu[add1]=add2\n",
    "elif list == '3':\n",
    "    sorted(menu, key=lambda x:x[0]) \n",
    "elif list == '4':    \n",
    "    del1 = input('삭제 메뉴')\n",
    "    del menu[del1]\n",
    "elif list == '5':\n",
    "    print('프로그램종료')"
   ]
  },
  {
   "cell_type": "code",
   "execution_count": 20,
   "id": "8447ce41-23d4-4b0a-b593-8ac30920d16a",
   "metadata": {},
   "outputs": [
    {
     "name": "stdin",
     "output_type": "stream",
     "text": [
      "\n",
      "---------------------------------------------------------\n",
      "1.메뉴입력 2.메뉴수정 3.메뉴목록 4.메뉴삭제 5.프로그램종료\n",
      "---------------------------------------------------------\n",
      "메뉴선택 >>> 5\n"
     ]
    },
    {
     "name": "stdout",
     "output_type": "stream",
     "text": [
      "프로그램을 종료합니다.\n"
     ]
    }
   ],
   "source": [
    "menu = {'아이스아메리카노':3000,'라떼':4000,'코코아':3500}\n",
    "while True:\n",
    "    choice = input('''\n",
    "---------------------------------------------------------\n",
    "1.메뉴입력 2.메뉴수정 3.메뉴목록 4.메뉴삭제 5.프로그램종료\n",
    "---------------------------------------------------------\n",
    "메뉴선택 >>>''')\n",
    "    if choice == '1':\n",
    "        print('현재메뉴 :',list(menu.keys()))\n",
    "        name = input('추가할 메뉴명을 입력하세요>>>')\n",
    "        price = 'a'\n",
    "        while not price.isdecimal():\n",
    "            price = input('추가할 메뉴의 가격을 입력하세요>>>')\n",
    "        menu[name]=int(price)\n",
    "    elif choice == '2':\n",
    "        print('현재메뉴 :',list(menu.keys()))\n",
    "        name = ''\n",
    "        while not name in menu.keys():\n",
    "            name = input('수정할 메뉴명을 입력하세요>>>')\n",
    "        price = 'a'\n",
    "        while not price.isdecimal():\n",
    "            price = input('수정할 메뉴의 가격을 입력하세요>>>')\n",
    "        menu[name]=int(price)\n",
    "    elif choice == '3':\n",
    "        print('------ menu ------')\n",
    "        for item in sorted(menu.items(),key=lambda x:x[1],reverse=True):\n",
    "            print(f'{item[0]} : {item[1]:,}')\n",
    "    elif choice == '4':\n",
    "        print('현재메뉴 :',list(menu.keys()))\n",
    "        name = ''\n",
    "        while not name in menu.keys():\n",
    "            name = input('삭제할 메뉴명을 입력하세요 >>>')\n",
    "        del menu[name]\n",
    "    elif choice == '5':\n",
    "        print('프로그램을 종료합니다.')\n",
    "        break\n",
    "    else:\n",
    "        print('잘못 입력하셨습니다.')"
   ]
  },
  {
   "cell_type": "raw",
   "id": "64c39583-8026-434f-a549-2040190e8956",
   "metadata": {},
   "source": [
    "quiz 04>\n",
    "quiz 03에 내용을 프로그램 시작시 읽어오고 프로그램 종료시에 저장하고 읽기"
   ]
  },
  {
   "cell_type": "code",
   "execution_count": null,
   "id": "92aa1e2d-7ce1-4c5a-a8af-34f4f627fc4a",
   "metadata": {},
   "outputs": [],
   "source": [
    "import json\n",
    "\n",
    "f=open('menu.json','r')\n",
    "data=json.load(f)\n",
    "f.close()\n",
    "\n",
    "# menu = {'아이스아메리카노':3000,'라떼':4000,'코코아':3500}\n",
    "while True:\n",
    "    choice = input('''\n",
    "---------------------------------------------------------\n",
    "1.메뉴입력 2.메뉴수정 3.메뉴목록 4.메뉴삭제 5.프로그램종료\n",
    "---------------------------------------------------------\n",
    "메뉴선택 >>>''')\n",
    "    if choice == '1':\n",
    "        print('현재메뉴 :',list(menu.keys()))\n",
    "        name = input('추가할 메뉴명을 입력하세요>>>')\n",
    "        price = 'a'\n",
    "        while not price.isdecimal():\n",
    "            price = input('추가할 메뉴의 가격을 입력하세요>>>')\n",
    "        menu[name]=int(price)\n",
    "    elif choice == '2':\n",
    "        print('현재메뉴 :',list(menu.keys()))\n",
    "        name = ''\n",
    "        while not name in menu.keys():\n",
    "            name = input('수정할 메뉴명을 입력하세요>>>')\n",
    "        price = 'a'\n",
    "        while not price.isdecimal():\n",
    "            price = input('수정할 메뉴의 가격을 입력하세요>>>')\n",
    "        menu[name]=int(price)\n",
    "    elif choice == '3':\n",
    "        print('------ menu ------')\n",
    "        for item in sorted(menu.items(),key=lambda x:x[1],reverse=True):\n",
    "            print(f'{item[0]} : {item[1]:,}')\n",
    "    elif choice == '4':\n",
    "        print('현재메뉴 :',list(menu.keys()))\n",
    "        name = ''\n",
    "        while not name in menu.keys():\n",
    "            name = input('삭제할 메뉴명을 입력하세요 >>>')\n",
    "        del menu[name]\n",
    "    elif choice == '5':\n",
    "        print('프로그램을 종료합니다.')\n",
    "        f = open('menu.json','w')\n",
    "        json.dump(menu,f)\n",
    "        f.close()\n",
    "        break\n",
    "    else:\n",
    "        print('잘못 입력하셨습니다.')"
   ]
  },
  {
   "cell_type": "code",
   "execution_count": 21,
   "id": "bfe5270f-63ba-4add-accd-048a9499d918",
   "metadata": {},
   "outputs": [],
   "source": [
    "file = open('hello.txt','w')"
   ]
  },
  {
   "cell_type": "code",
   "execution_count": 22,
   "id": "db6c7f60-dba1-4d8b-a56d-9ddcaf668077",
   "metadata": {},
   "outputs": [
    {
     "data": {
      "text/plain": [
       "12"
      ]
     },
     "execution_count": 22,
     "metadata": {},
     "output_type": "execute_result"
    }
   ],
   "source": [
    "file.write('hello world!')"
   ]
  },
  {
   "cell_type": "code",
   "execution_count": 23,
   "id": "934401b9-b16d-4ffb-b5d8-fc94a2c73492",
   "metadata": {},
   "outputs": [],
   "source": [
    "file.close()"
   ]
  },
  {
   "cell_type": "code",
   "execution_count": 24,
   "id": "2399829b-0712-40e3-b2e2-be424aa00389",
   "metadata": {},
   "outputs": [],
   "source": [
    "file = open('hello.txt.', 'r')\n",
    "text = file. readlines()"
   ]
  },
  {
   "cell_type": "code",
   "execution_count": 25,
   "id": "a64efb71-86b0-430c-b969-2000edd28d19",
   "metadata": {},
   "outputs": [
    {
     "data": {
      "text/plain": [
       "['hello world!']"
      ]
     },
     "execution_count": 25,
     "metadata": {},
     "output_type": "execute_result"
    }
   ],
   "source": [
    "text"
   ]
  },
  {
   "cell_type": "code",
   "execution_count": 26,
   "id": "d9e6f031-1cf9-4b1f-8b65-ff8a8b854fed",
   "metadata": {},
   "outputs": [],
   "source": [
    "file.close()"
   ]
  },
  {
   "cell_type": "code",
   "execution_count": 33,
   "id": "00fefa08-c686-441c-a41e-14806731b160",
   "metadata": {},
   "outputs": [
    {
     "data": {
      "text/plain": [
       "{'아이스아메리카노': 3000, '라떼': 4000, '코코아': 3500}"
      ]
     },
     "execution_count": 33,
     "metadata": {},
     "output_type": "execute_result"
    }
   ],
   "source": [
    "menu"
   ]
  },
  {
   "cell_type": "code",
   "execution_count": 38,
   "id": "b08a82af-a7f1-4480-b61e-bd70f84f91ec",
   "metadata": {},
   "outputs": [],
   "source": [
    "import json"
   ]
  },
  {
   "cell_type": "code",
   "execution_count": 41,
   "id": "5059075c-44a6-4847-aa9d-ef56c7928d29",
   "metadata": {},
   "outputs": [],
   "source": [
    "f = open('menu.json','w')\n",
    "json.dump(menu,f)\n",
    "f.close()"
   ]
  },
  {
   "cell_type": "code",
   "execution_count": 42,
   "id": "bbec2423-f920-4a02-824c-1fdc74433e5c",
   "metadata": {},
   "outputs": [],
   "source": [
    "f=open('menu.json','r')\n",
    "data=json.load(f)\n",
    "f.close()"
   ]
  },
  {
   "cell_type": "code",
   "execution_count": 43,
   "id": "f34828a7-333c-49b7-94d9-2dd96f1e31ad",
   "metadata": {},
   "outputs": [
    {
     "data": {
      "text/plain": [
       "dict"
      ]
     },
     "execution_count": 43,
     "metadata": {},
     "output_type": "execute_result"
    }
   ],
   "source": [
    "type(data)"
   ]
  },
  {
   "cell_type": "raw",
   "id": "982b8649-245e-4b67-916e-fb0c96da553e",
   "metadata": {},
   "source": [
    "quiz 5>\n",
    "타자게임\n",
    "- 데이터는 word = [\"cat\", \"dog\", \"fox\", \"monkey\", \"mouse\", \"panda\", \"frog\", \"snake\", \"wolf\"]\n",
    "- 문제는 총 5문제가 나옵니다.\n",
    "- 나온 문제는 맞출 때까지 계속 됩니다.\n",
    "- 문제를 맞추면 다음 문제가 나옵니다.\n",
    "- 걸린 시간을 보여줍니다."
   ]
  },
  {
   "cell_type": "code",
   "execution_count": 46,
   "id": "5cb82b04-177e-4d7b-aecd-e5b027d0edd3",
   "metadata": {},
   "outputs": [],
   "source": [
    "import random"
   ]
  },
  {
   "cell_type": "code",
   "execution_count": 47,
   "id": "54bb1bfe-9c4c-428d-9116-8c9ed2195862",
   "metadata": {},
   "outputs": [],
   "source": [
    "word = [\"cat\", \"dog\", \"fox\", \"monkey\", \"mouse\", \"panda\", \"frog\", \"snake\", \"wolf\"]"
   ]
  },
  {
   "cell_type": "code",
   "execution_count": 59,
   "id": "c74d6be8-ac40-4274-a456-cbe25844235d",
   "metadata": {},
   "outputs": [
    {
     "data": {
      "text/plain": [
       "'monkey'"
      ]
     },
     "execution_count": 59,
     "metadata": {},
     "output_type": "execute_result"
    }
   ],
   "source": [
    "random.choice(word)"
   ]
  },
  {
   "cell_type": "code",
   "execution_count": 75,
   "id": "9f3c6195-8dfa-47dd-bb0e-7e98971d02b3",
   "metadata": {},
   "outputs": [
    {
     "data": {
      "text/plain": [
       "'mouse'"
      ]
     },
     "execution_count": 75,
     "metadata": {},
     "output_type": "execute_result"
    }
   ],
   "source": [
    "word[random.randint(0,len(word)-1)]"
   ]
  },
  {
   "cell_type": "code",
   "execution_count": 100,
   "id": "5fa6dfa4-5f85-452e-8662-b05db5b7718d",
   "metadata": {},
   "outputs": [
    {
     "name": "stdout",
     "output_type": "stream",
     "text": [
      "snake\n"
     ]
    },
    {
     "name": "stdin",
     "output_type": "stream",
     "text": [
      " snake\n"
     ]
    },
    {
     "ename": "TypeError",
     "evalue": "'list' object is not callable",
     "output_type": "error",
     "traceback": [
      "\u001b[1;31m---------------------------------------------------------------------------\u001b[0m",
      "\u001b[1;31mTypeError\u001b[0m                                 Traceback (most recent call last)",
      "\u001b[1;32m~\\AppData\\Local\\Temp/ipykernel_5332/356127885.py\u001b[0m in \u001b[0;36m<module>\u001b[1;34m\u001b[0m\n\u001b[0;32m      9\u001b[0m         \u001b[1;32mif\u001b[0m \u001b[0mproblem\u001b[0m \u001b[1;33m==\u001b[0m \u001b[0manswer\u001b[0m \u001b[1;33m:\u001b[0m\u001b[1;33m\u001b[0m\u001b[1;33m\u001b[0m\u001b[0m\n\u001b[0;32m     10\u001b[0m             \u001b[0manswer\u001b[0m \u001b[1;33m=\u001b[0m \u001b[1;34m''\u001b[0m\u001b[1;33m\u001b[0m\u001b[1;33m\u001b[0m\u001b[0m\n\u001b[1;32m---> 11\u001b[1;33m             \u001b[1;32mwhile\u001b[0m \u001b[1;32mnot\u001b[0m \u001b[0manswer\u001b[0m \u001b[1;32min\u001b[0m \u001b[0mword\u001b[0m\u001b[1;33m(\u001b[0m\u001b[1;33m)\u001b[0m\u001b[1;33m:\u001b[0m\u001b[1;33m\u001b[0m\u001b[1;33m\u001b[0m\u001b[0m\n\u001b[0m\u001b[0;32m     12\u001b[0m                 \u001b[0manswer\u001b[0m \u001b[1;33m=\u001b[0m \u001b[0minput\u001b[0m\u001b[1;33m(\u001b[0m\u001b[1;33m)\u001b[0m\u001b[1;33m\u001b[0m\u001b[1;33m\u001b[0m\u001b[0m\n\u001b[0;32m     13\u001b[0m         \u001b[1;32melse\u001b[0m\u001b[1;33m:\u001b[0m\u001b[1;33m\u001b[0m\u001b[1;33m\u001b[0m\u001b[0m\n",
      "\u001b[1;31mTypeError\u001b[0m: 'list' object is not callable"
     ]
    }
   ],
   "source": [
    "import random\n",
    "\n",
    "word = [\"cat\", \"dog\", \"fox\", \"monkey\", \"mouse\", \"panda\", \"frog\", \"snake\", \"wolf\"]\n",
    "for i in range(5):\n",
    "    while True:\n",
    "        problem = random.choice(word)\n",
    "        print(problem)\n",
    "        answer = input()\n",
    "        if problem == answer :\n",
    "            answer = ''\n",
    "            while not answer in word():\n",
    "                answer = input()\n",
    "        else:\n",
    "            break"
   ]
  },
  {
   "cell_type": "code",
   "execution_count": 97,
   "id": "e67eba6b-8666-48e1-830b-f0e691f88338",
   "metadata": {},
   "outputs": [
    {
     "ename": "KeyboardInterrupt",
     "evalue": "Interrupted by user",
     "output_type": "error",
     "traceback": [
      "\u001b[1;31m---------------------------------------------------------------------------\u001b[0m",
      "\u001b[1;31mKeyboardInterrupt\u001b[0m                         Traceback (most recent call last)",
      "\u001b[1;32m~\\AppData\\Local\\Temp/ipykernel_5332/2334813002.py\u001b[0m in \u001b[0;36m<module>\u001b[1;34m\u001b[0m\n\u001b[0;32m      4\u001b[0m \u001b[0mn\u001b[0m\u001b[1;33m=\u001b[0m\u001b[1;36m1\u001b[0m\u001b[1;33m\u001b[0m\u001b[1;33m\u001b[0m\u001b[0m\n\u001b[0;32m      5\u001b[0m \u001b[0mquiz\u001b[0m \u001b[1;33m=\u001b[0m \u001b[0mrandom\u001b[0m\u001b[1;33m.\u001b[0m\u001b[0mchoice\u001b[0m\u001b[1;33m(\u001b[0m\u001b[0mword\u001b[0m\u001b[1;33m)\u001b[0m\u001b[1;33m\u001b[0m\u001b[1;33m\u001b[0m\u001b[0m\n\u001b[1;32m----> 6\u001b[1;33m \u001b[0minput\u001b[0m\u001b[1;33m(\u001b[0m\u001b[1;34m'시작!(enter)'\u001b[0m\u001b[1;33m)\u001b[0m\u001b[1;33m\u001b[0m\u001b[1;33m\u001b[0m\u001b[0m\n\u001b[0m\u001b[0;32m      7\u001b[0m \u001b[0mstart\u001b[0m \u001b[1;33m=\u001b[0m \u001b[0mtime\u001b[0m\u001b[1;33m.\u001b[0m\u001b[0mtime\u001b[0m\u001b[1;33m(\u001b[0m\u001b[1;33m)\u001b[0m\u001b[1;33m\u001b[0m\u001b[1;33m\u001b[0m\u001b[0m\n\u001b[0;32m      8\u001b[0m \u001b[1;32mwhile\u001b[0m \u001b[0mn\u001b[0m \u001b[1;33m<=\u001b[0m \u001b[1;36m5\u001b[0m\u001b[1;33m:\u001b[0m\u001b[1;33m\u001b[0m\u001b[1;33m\u001b[0m\u001b[0m\n",
      "\u001b[1;32m~\\anaconda3\\lib\\site-packages\\ipykernel\\kernelbase.py\u001b[0m in \u001b[0;36mraw_input\u001b[1;34m(self, prompt)\u001b[0m\n\u001b[0;32m   1004\u001b[0m                 \u001b[1;34m\"raw_input was called, but this frontend does not support input requests.\"\u001b[0m\u001b[1;33m\u001b[0m\u001b[1;33m\u001b[0m\u001b[0m\n\u001b[0;32m   1005\u001b[0m             )\n\u001b[1;32m-> 1006\u001b[1;33m         return self._input_request(\n\u001b[0m\u001b[0;32m   1007\u001b[0m             \u001b[0mstr\u001b[0m\u001b[1;33m(\u001b[0m\u001b[0mprompt\u001b[0m\u001b[1;33m)\u001b[0m\u001b[1;33m,\u001b[0m\u001b[1;33m\u001b[0m\u001b[1;33m\u001b[0m\u001b[0m\n\u001b[0;32m   1008\u001b[0m             \u001b[0mself\u001b[0m\u001b[1;33m.\u001b[0m\u001b[0m_parent_ident\u001b[0m\u001b[1;33m[\u001b[0m\u001b[1;34m\"shell\"\u001b[0m\u001b[1;33m]\u001b[0m\u001b[1;33m,\u001b[0m\u001b[1;33m\u001b[0m\u001b[1;33m\u001b[0m\u001b[0m\n",
      "\u001b[1;32m~\\anaconda3\\lib\\site-packages\\ipykernel\\kernelbase.py\u001b[0m in \u001b[0;36m_input_request\u001b[1;34m(self, prompt, ident, parent, password)\u001b[0m\n\u001b[0;32m   1049\u001b[0m             \u001b[1;32mexcept\u001b[0m \u001b[0mKeyboardInterrupt\u001b[0m\u001b[1;33m:\u001b[0m\u001b[1;33m\u001b[0m\u001b[1;33m\u001b[0m\u001b[0m\n\u001b[0;32m   1050\u001b[0m                 \u001b[1;31m# re-raise KeyboardInterrupt, to truncate traceback\u001b[0m\u001b[1;33m\u001b[0m\u001b[1;33m\u001b[0m\u001b[0m\n\u001b[1;32m-> 1051\u001b[1;33m                 \u001b[1;32mraise\u001b[0m \u001b[0mKeyboardInterrupt\u001b[0m\u001b[1;33m(\u001b[0m\u001b[1;34m\"Interrupted by user\"\u001b[0m\u001b[1;33m)\u001b[0m \u001b[1;32mfrom\u001b[0m \u001b[1;32mNone\u001b[0m\u001b[1;33m\u001b[0m\u001b[1;33m\u001b[0m\u001b[0m\n\u001b[0m\u001b[0;32m   1052\u001b[0m             \u001b[1;32mexcept\u001b[0m \u001b[0mException\u001b[0m\u001b[1;33m:\u001b[0m\u001b[1;33m\u001b[0m\u001b[1;33m\u001b[0m\u001b[0m\n\u001b[0;32m   1053\u001b[0m                 \u001b[0mself\u001b[0m\u001b[1;33m.\u001b[0m\u001b[0mlog\u001b[0m\u001b[1;33m.\u001b[0m\u001b[0mwarning\u001b[0m\u001b[1;33m(\u001b[0m\u001b[1;34m\"Invalid Message:\"\u001b[0m\u001b[1;33m,\u001b[0m \u001b[0mexc_info\u001b[0m\u001b[1;33m=\u001b[0m\u001b[1;32mTrue\u001b[0m\u001b[1;33m)\u001b[0m\u001b[1;33m\u001b[0m\u001b[1;33m\u001b[0m\u001b[0m\n",
      "\u001b[1;31mKeyboardInterrupt\u001b[0m: Interrupted by user"
     ]
    }
   ],
   "source": [
    "import random,time\n",
    "\n",
    "word = [\"cat\", \"dog\", \"fox\", \"monkey\", \"mouse\", \"panda\", \"frog\", \"snake\", \"wolf\"]\n",
    "n=1\n",
    "quiz = random.choice(word)\n",
    "input('시작!(enter)')\n",
    "start = time.time()\n",
    "while n <= 5:\n",
    "    print(f'{n}번')\n",
    "    print(quiz)\n",
    "    x = input()\n",
    "    if quiz == x:\n",
    "        print('통과!')\n",
    "        n += 1\n",
    "        quiz = random.choice(word)\n",
    "    else:\n",
    "        print('오타! 다시도전')\n",
    "print('5문제 다 맞췄습니다.')\n",
    "end = time.time()\n",
    "print(f'걸린시간:{end-start:.0f}초')"
   ]
  },
  {
   "cell_type": "raw",
   "id": "5e2b006e-df35-4d0a-b4d8-381cad2048e4",
   "metadata": {},
   "source": [
    "quiz 6>\n",
    "앞에 타자게임을 활용\n",
    "- 1. 문제추가 2.타자게임 3.등수리스트 4.종료하기\n",
    "- 문제추가 후 데이터는 파일 저장\n",
    "- 문제추가는 단어를 입력받아서 중복되지 않게 추가, 종료 전까지 계속 추가 작업 진행\n",
    "- 타자게임은 시간을 체크하고, 걸린시간을 사용자명과 함께 저장(딕셔너리)\n",
    "- 등수리스트는 걸리시간이 적은 순서대로 정렬해서 출력\n",
    "- 종료하기는 등수리스트를 저장하고 진행\n",
    "- 프로그램이 시작될 때 문제와 등수정보를 읽어옵니다."
   ]
  },
  {
   "cell_type": "code",
   "execution_count": 119,
   "id": "03124278-1578-4ddf-b8a8-6e0c5cfc0ed5",
   "metadata": {},
   "outputs": [
    {
     "name": "stdin",
     "output_type": "stream",
     "text": [
      "\n",
      "---------------------------------------------\n",
      "1.문제추가 2.타자게임 3.등수리스트 4.종료하기\n",
      "---------------------------------------------\n",
      ">>> 1\n"
     ]
    },
    {
     "name": "stdout",
     "output_type": "stream",
     "text": [
      "현재문제 : ['cat', 'dog', 'fox', 'monkey', 'mouse', 'panda', 'frog', 'snake', 'wolf']\n"
     ]
    },
    {
     "name": "stdin",
     "output_type": "stream",
     "text": [
      "새로운 문제를 입력하세요 cow\n"
     ]
    },
    {
     "name": "stdout",
     "output_type": "stream",
     "text": [
      "['cat', 'dog', 'fox', 'monkey', 'mouse', 'panda', 'frog', 'snake', 'wolf', 'cow']\n"
     ]
    },
    {
     "ename": "KeyboardInterrupt",
     "evalue": "Interrupted by user",
     "output_type": "error",
     "traceback": [
      "\u001b[1;31m---------------------------------------------------------------------------\u001b[0m",
      "\u001b[1;31mKeyboardInterrupt\u001b[0m                         Traceback (most recent call last)",
      "\u001b[1;32m~\\AppData\\Local\\Temp/ipykernel_5332/777098804.py\u001b[0m in \u001b[0;36m<module>\u001b[1;34m\u001b[0m\n\u001b[0;32m      2\u001b[0m \u001b[1;33m\u001b[0m\u001b[0m\n\u001b[0;32m      3\u001b[0m \u001b[1;32mwhile\u001b[0m \u001b[1;32mTrue\u001b[0m\u001b[1;33m:\u001b[0m\u001b[1;33m\u001b[0m\u001b[1;33m\u001b[0m\u001b[0m\n\u001b[1;32m----> 4\u001b[1;33m     choice = input('''\n\u001b[0m\u001b[0;32m      5\u001b[0m \u001b[1;33m-\u001b[0m\u001b[1;33m-\u001b[0m\u001b[1;33m-\u001b[0m\u001b[1;33m-\u001b[0m\u001b[1;33m-\u001b[0m\u001b[1;33m-\u001b[0m\u001b[1;33m-\u001b[0m\u001b[1;33m-\u001b[0m\u001b[1;33m-\u001b[0m\u001b[1;33m-\u001b[0m\u001b[1;33m-\u001b[0m\u001b[1;33m-\u001b[0m\u001b[1;33m-\u001b[0m\u001b[1;33m-\u001b[0m\u001b[1;33m-\u001b[0m\u001b[1;33m-\u001b[0m\u001b[1;33m-\u001b[0m\u001b[1;33m-\u001b[0m\u001b[1;33m-\u001b[0m\u001b[1;33m-\u001b[0m\u001b[1;33m-\u001b[0m\u001b[1;33m-\u001b[0m\u001b[1;33m-\u001b[0m\u001b[1;33m-\u001b[0m\u001b[1;33m-\u001b[0m\u001b[1;33m-\u001b[0m\u001b[1;33m-\u001b[0m\u001b[1;33m-\u001b[0m\u001b[1;33m-\u001b[0m\u001b[1;33m-\u001b[0m\u001b[1;33m-\u001b[0m\u001b[1;33m-\u001b[0m\u001b[1;33m-\u001b[0m\u001b[1;33m-\u001b[0m\u001b[1;33m-\u001b[0m\u001b[1;33m-\u001b[0m\u001b[1;33m-\u001b[0m\u001b[1;33m-\u001b[0m\u001b[1;33m-\u001b[0m\u001b[1;33m-\u001b[0m\u001b[1;33m-\u001b[0m\u001b[1;33m-\u001b[0m\u001b[1;33m-\u001b[0m\u001b[1;33m-\u001b[0m\u001b[1;33m-\u001b[0m\u001b[1;33m\u001b[0m\u001b[1;33m\u001b[0m\u001b[0m\n\u001b[0;32m      6\u001b[0m \u001b[1;36m1.\u001b[0m\u001b[0m문제추가\u001b[0m \u001b[1;36m2.\u001b[0m\u001b[0m타자게임\u001b[0m \u001b[1;36m3.\u001b[0m\u001b[0m등수리스트\u001b[0m \u001b[1;36m4.\u001b[0m\u001b[0m종료하기\u001b[0m\u001b[1;33m\u001b[0m\u001b[1;33m\u001b[0m\u001b[0m\n",
      "\u001b[1;32m~\\anaconda3\\lib\\site-packages\\ipykernel\\kernelbase.py\u001b[0m in \u001b[0;36mraw_input\u001b[1;34m(self, prompt)\u001b[0m\n\u001b[0;32m   1004\u001b[0m                 \u001b[1;34m\"raw_input was called, but this frontend does not support input requests.\"\u001b[0m\u001b[1;33m\u001b[0m\u001b[1;33m\u001b[0m\u001b[0m\n\u001b[0;32m   1005\u001b[0m             )\n\u001b[1;32m-> 1006\u001b[1;33m         return self._input_request(\n\u001b[0m\u001b[0;32m   1007\u001b[0m             \u001b[0mstr\u001b[0m\u001b[1;33m(\u001b[0m\u001b[0mprompt\u001b[0m\u001b[1;33m)\u001b[0m\u001b[1;33m,\u001b[0m\u001b[1;33m\u001b[0m\u001b[1;33m\u001b[0m\u001b[0m\n\u001b[0;32m   1008\u001b[0m             \u001b[0mself\u001b[0m\u001b[1;33m.\u001b[0m\u001b[0m_parent_ident\u001b[0m\u001b[1;33m[\u001b[0m\u001b[1;34m\"shell\"\u001b[0m\u001b[1;33m]\u001b[0m\u001b[1;33m,\u001b[0m\u001b[1;33m\u001b[0m\u001b[1;33m\u001b[0m\u001b[0m\n",
      "\u001b[1;32m~\\anaconda3\\lib\\site-packages\\ipykernel\\kernelbase.py\u001b[0m in \u001b[0;36m_input_request\u001b[1;34m(self, prompt, ident, parent, password)\u001b[0m\n\u001b[0;32m   1049\u001b[0m             \u001b[1;32mexcept\u001b[0m \u001b[0mKeyboardInterrupt\u001b[0m\u001b[1;33m:\u001b[0m\u001b[1;33m\u001b[0m\u001b[1;33m\u001b[0m\u001b[0m\n\u001b[0;32m   1050\u001b[0m                 \u001b[1;31m# re-raise KeyboardInterrupt, to truncate traceback\u001b[0m\u001b[1;33m\u001b[0m\u001b[1;33m\u001b[0m\u001b[0m\n\u001b[1;32m-> 1051\u001b[1;33m                 \u001b[1;32mraise\u001b[0m \u001b[0mKeyboardInterrupt\u001b[0m\u001b[1;33m(\u001b[0m\u001b[1;34m\"Interrupted by user\"\u001b[0m\u001b[1;33m)\u001b[0m \u001b[1;32mfrom\u001b[0m \u001b[1;32mNone\u001b[0m\u001b[1;33m\u001b[0m\u001b[1;33m\u001b[0m\u001b[0m\n\u001b[0m\u001b[0;32m   1052\u001b[0m             \u001b[1;32mexcept\u001b[0m \u001b[0mException\u001b[0m\u001b[1;33m:\u001b[0m\u001b[1;33m\u001b[0m\u001b[1;33m\u001b[0m\u001b[0m\n\u001b[0;32m   1053\u001b[0m                 \u001b[0mself\u001b[0m\u001b[1;33m.\u001b[0m\u001b[0mlog\u001b[0m\u001b[1;33m.\u001b[0m\u001b[0mwarning\u001b[0m\u001b[1;33m(\u001b[0m\u001b[1;34m\"Invalid Message:\"\u001b[0m\u001b[1;33m,\u001b[0m \u001b[0mexc_info\u001b[0m\u001b[1;33m=\u001b[0m\u001b[1;32mTrue\u001b[0m\u001b[1;33m)\u001b[0m\u001b[1;33m\u001b[0m\u001b[1;33m\u001b[0m\u001b[0m\n",
      "\u001b[1;31mKeyboardInterrupt\u001b[0m: Interrupted by user"
     ]
    }
   ],
   "source": [
    "word = [\"cat\", \"dog\", \"fox\", \"monkey\", \"mouse\", \"panda\", \"frog\", \"snake\", \"wolf\"]\n",
    "\n",
    "while True:\n",
    "    choice = input('''\n",
    "---------------------------------------------\n",
    "1.문제추가 2.타자게임 3.등수리스트 4.종료하기\n",
    "---------------------------------------------\n",
    ">>>''')\n",
    "    if choice == '1':\n",
    "        print('현재문제 :', list(word))\n",
    "        newquiz = input('새로운 문제를 입력하세요')\n",
    "        word.append(newquiz)\n",
    "        print(word)\n",
    "    elif choice == '2':\n",
    "        \n",
    "        quiz = random.choice(word)\n",
    "        input('시작!(enter)')\n",
    "        start = time.time()\n",
    "        while True:\n",
    "            print(quiz)\n",
    "            x = input()\n",
    "            if quiz == x:\n",
    "                print('통과!')\n",
    "                quiz = random.choice(word)\n",
    "            else:\n",
    "                print('오타! 다시도전')\n",
    "        "
   ]
  },
  {
   "cell_type": "code",
   "execution_count": 146,
   "id": "7a6dd902-c803-45f7-8845-80cab8a6fb5b",
   "metadata": {},
   "outputs": [
    {
     "name": "stdin",
     "output_type": "stream",
     "text": [
      "\n",
      "1.문제추가 2.타자게임 3.등수리스트 4.종료하기\n",
      "메뉴선택 >>>  3\n"
     ]
    },
    {
     "name": "stdout",
     "output_type": "stream",
     "text": [
      "1등 bbc 7.08\n",
      "2등 bbq 8.91\n",
      "3등 aaa 10.11\n"
     ]
    },
    {
     "ename": "KeyboardInterrupt",
     "evalue": "Interrupted by user",
     "output_type": "error",
     "traceback": [
      "\u001b[1;31m---------------------------------------------------------------------------\u001b[0m",
      "\u001b[1;31mKeyboardInterrupt\u001b[0m                         Traceback (most recent call last)",
      "\u001b[1;32m~\\AppData\\Local\\Temp/ipykernel_5332/2393947363.py\u001b[0m in \u001b[0;36m<module>\u001b[1;34m\u001b[0m\n\u001b[0;32m     10\u001b[0m \u001b[1;33m\u001b[0m\u001b[0m\n\u001b[0;32m     11\u001b[0m \u001b[1;32mwhile\u001b[0m \u001b[1;32mTrue\u001b[0m\u001b[1;33m:\u001b[0m\u001b[1;33m\u001b[0m\u001b[1;33m\u001b[0m\u001b[0m\n\u001b[1;32m---> 12\u001b[1;33m     menu = input('''\n\u001b[0m\u001b[0;32m     13\u001b[0m \u001b[1;36m1.\u001b[0m\u001b[0m문제추가\u001b[0m \u001b[1;36m2.\u001b[0m\u001b[0m타자게임\u001b[0m \u001b[1;36m3.\u001b[0m\u001b[0m등수리스트\u001b[0m \u001b[1;36m4.\u001b[0m\u001b[0m종료하기\u001b[0m\u001b[1;33m\u001b[0m\u001b[1;33m\u001b[0m\u001b[0m\n\u001b[0;32m     14\u001b[0m 메뉴선택 >>> ''')\n",
      "\u001b[1;32m~\\anaconda3\\lib\\site-packages\\ipykernel\\kernelbase.py\u001b[0m in \u001b[0;36mraw_input\u001b[1;34m(self, prompt)\u001b[0m\n\u001b[0;32m   1004\u001b[0m                 \u001b[1;34m\"raw_input was called, but this frontend does not support input requests.\"\u001b[0m\u001b[1;33m\u001b[0m\u001b[1;33m\u001b[0m\u001b[0m\n\u001b[0;32m   1005\u001b[0m             )\n\u001b[1;32m-> 1006\u001b[1;33m         return self._input_request(\n\u001b[0m\u001b[0;32m   1007\u001b[0m             \u001b[0mstr\u001b[0m\u001b[1;33m(\u001b[0m\u001b[0mprompt\u001b[0m\u001b[1;33m)\u001b[0m\u001b[1;33m,\u001b[0m\u001b[1;33m\u001b[0m\u001b[1;33m\u001b[0m\u001b[0m\n\u001b[0;32m   1008\u001b[0m             \u001b[0mself\u001b[0m\u001b[1;33m.\u001b[0m\u001b[0m_parent_ident\u001b[0m\u001b[1;33m[\u001b[0m\u001b[1;34m\"shell\"\u001b[0m\u001b[1;33m]\u001b[0m\u001b[1;33m,\u001b[0m\u001b[1;33m\u001b[0m\u001b[1;33m\u001b[0m\u001b[0m\n",
      "\u001b[1;32m~\\anaconda3\\lib\\site-packages\\ipykernel\\kernelbase.py\u001b[0m in \u001b[0;36m_input_request\u001b[1;34m(self, prompt, ident, parent, password)\u001b[0m\n\u001b[0;32m   1049\u001b[0m             \u001b[1;32mexcept\u001b[0m \u001b[0mKeyboardInterrupt\u001b[0m\u001b[1;33m:\u001b[0m\u001b[1;33m\u001b[0m\u001b[1;33m\u001b[0m\u001b[0m\n\u001b[0;32m   1050\u001b[0m                 \u001b[1;31m# re-raise KeyboardInterrupt, to truncate traceback\u001b[0m\u001b[1;33m\u001b[0m\u001b[1;33m\u001b[0m\u001b[0m\n\u001b[1;32m-> 1051\u001b[1;33m                 \u001b[1;32mraise\u001b[0m \u001b[0mKeyboardInterrupt\u001b[0m\u001b[1;33m(\u001b[0m\u001b[1;34m\"Interrupted by user\"\u001b[0m\u001b[1;33m)\u001b[0m \u001b[1;32mfrom\u001b[0m \u001b[1;32mNone\u001b[0m\u001b[1;33m\u001b[0m\u001b[1;33m\u001b[0m\u001b[0m\n\u001b[0m\u001b[0;32m   1052\u001b[0m             \u001b[1;32mexcept\u001b[0m \u001b[0mException\u001b[0m\u001b[1;33m:\u001b[0m\u001b[1;33m\u001b[0m\u001b[1;33m\u001b[0m\u001b[0m\n\u001b[0;32m   1053\u001b[0m                 \u001b[0mself\u001b[0m\u001b[1;33m.\u001b[0m\u001b[0mlog\u001b[0m\u001b[1;33m.\u001b[0m\u001b[0mwarning\u001b[0m\u001b[1;33m(\u001b[0m\u001b[1;34m\"Invalid Message:\"\u001b[0m\u001b[1;33m,\u001b[0m \u001b[0mexc_info\u001b[0m\u001b[1;33m=\u001b[0m\u001b[1;32mTrue\u001b[0m\u001b[1;33m)\u001b[0m\u001b[1;33m\u001b[0m\u001b[1;33m\u001b[0m\u001b[0m\n",
      "\u001b[1;31mKeyboardInterrupt\u001b[0m: Interrupted by user"
     ]
    }
   ],
   "source": [
    "import random,time,json\n",
    "\n",
    "# word = [\"cat\", \"dog\", \"fox\", \"monkey\", \"mouse\", \"panda\", \"frog\", \"snake\", \"wolf\"]\n",
    "# rank = {'aaa' : 10.111}\n",
    "\n",
    "with open('rank.json','r') as f:\n",
    "    word = json.load(f)\n",
    "with open('rank.json','r') as f:\n",
    "    rank = json.load(f)\n",
    "    \n",
    "while True:\n",
    "    menu = input('''\n",
    "1.문제추가 2.타자게임 3.등수리스트 4.종료하기\n",
    "메뉴선택 >>> ''')\n",
    "    if menu == '1':\n",
    "        while True: \n",
    "            quiz = input('추가할 단어를 입력(종료:0)>>>')\n",
    "            while quiz in word:\n",
    "                quiz = input('중복 단어. 다시 입력(종료:0)>>>')\n",
    "            if quiz == '0':\n",
    "                break\n",
    "            word.append(quiz)\n",
    "            print(word)\n",
    "        with open('word.json','w') as f:\n",
    "            json.dump(word,f)\n",
    "            \n",
    "    elif menu == '2':\n",
    "        n=1\n",
    "        quiz = random.choice(word)\n",
    "        input('시작!(enter)')\n",
    "        start = time.time()\n",
    "        while n <= 5:\n",
    "            print(f'{n}번')\n",
    "            print(quiz)\n",
    "            x = input()\n",
    "            if quiz == x:\n",
    "                print('통과!')\n",
    "                n += 1\n",
    "                quiz = random.choice(word)\n",
    "            else:\n",
    "                print('오타! 다시도전')\n",
    "        print('5문제 다 맞췄습니다.')\n",
    "        end = time.time()\n",
    "        print(f'걸린시간:{end-start:.0f}초')\n",
    "        name = input('사용자명을 입력하세요 >>>')\n",
    "        while name in rank:    \n",
    "            name = input('사용자명이 중복됩니다. 다른 이름을 입력하세요 >>>')\n",
    "        rank[name]=end-start\n",
    "        print(rank)\n",
    "    elif menu == '3':\n",
    "        ranklist = sorted(rank.items(),key=lambda x:x[1])\n",
    "        for index,(k,v) in enumerate(ranklist):                                      #for index,item in enumerate(ranklist):\n",
    "            print(f'{index+1}등 {k} {v:.2f}')                                            #print(f'{index+1}등 {item[0]} {item[1]:.2f}')\n",
    "    elif menu == '4':\n",
    "        print('프로그램을 종료합니다.')\n",
    "        with open('rank.json','w') as f:                                   #wiht open 사용시 f.close 사용안해도됨\n",
    "            json.dump(rank,f)\n",
    "        break\n",
    "    else:\n",
    "        print('메뉴선택을 잘못하셨습니다.')"
   ]
  }
 ],
 "metadata": {
  "kernelspec": {
   "display_name": "Python 3 (ipykernel)",
   "language": "python",
   "name": "python3"
  },
  "language_info": {
   "codemirror_mode": {
    "name": "ipython",
    "version": 3
   },
   "file_extension": ".py",
   "mimetype": "text/x-python",
   "name": "python",
   "nbconvert_exporter": "python",
   "pygments_lexer": "ipython3",
   "version": "3.9.7"
  }
 },
 "nbformat": 4,
 "nbformat_minor": 5
}
