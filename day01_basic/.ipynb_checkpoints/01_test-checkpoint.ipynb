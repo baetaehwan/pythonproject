{
 "cells": [
  {
   "cell_type": "code",
   "execution_count": 7,
   "id": "b6803300-b308-40c4-bc51-f7031e3ce3eb",
   "metadata": {},
   "outputs": [
    {
     "name": "stdout",
     "output_type": "stream",
     "text": [
      "hello world!!\n"
     ]
    }
   ],
   "source": [
    "print('hello world!!')"
   ]
  },
  {
   "cell_type": "code",
   "execution_count": 8,
   "id": "166f9cac-2f81-4657-ade0-15f58b19b20e",
   "metadata": {},
   "outputs": [],
   "source": [
    "# 한글작업"
   ]
  },
  {
   "cell_type": "code",
   "execution_count": 24,
   "id": "b137028e-d83c-4769-8c25-4b8171724463",
   "metadata": {},
   "outputs": [],
   "source": [
    "a = 5\n",
    "if a == 10:\n",
    "    print('10입니다.')"
   ]
  },
  {
   "cell_type": "code",
   "execution_count": null,
   "id": "61ecd83a-0e28-437f-99b3-9dd95ac8df1d",
   "metadata": {},
   "outputs": [
    {
     "data": {
      "text/plain": [
       "3"
      ]
     },
     "execution_count": 9,
     "metadata": {},
     "output_type": "execute_result"
    }
   ],
   "source": [
    "1+1+1"
   ]
  },
  {
   "cell_type": "code",
   "execution_count": null,
   "id": "699960ce-64f3-48f5-9806-b223670fe719",
   "metadata": {},
   "outputs": [
    {
     "data": {
      "text/plain": [
       "2.0"
      ]
     },
     "execution_count": 11,
     "metadata": {},
     "output_type": "execute_result"
    }
   ],
   "source": [
    "1+1.0"
   ]
  },
  {
   "cell_type": "code",
   "execution_count": null,
   "id": "20871c03-6b2b-45f7-8e7f-a639fadedda8",
   "metadata": {},
   "outputs": [
    {
     "data": {
      "text/plain": [
       "2.0"
      ]
     },
     "execution_count": 12,
     "metadata": {},
     "output_type": "execute_result"
    }
   ],
   "source": [
    "4/2"
   ]
  },
  {
   "cell_type": "raw",
   "id": "c987451b-7163-4440-85c3-54366814a389",
   "metadata": {},
   "source": [
    "+,-,*,/,//(몫),%(나머지),**(거듭제곱)"
   ]
  },
  {
   "cell_type": "markdown",
   "id": "4b948a2f-6f4b-473e-a510-3af2e992bd88",
   "metadata": {},
   "source": [
    "# 제목"
   ]
  },
  {
   "cell_type": "markdown",
   "id": "73840d3b-3ae0-4427-af8e-9920fa87b05b",
   "metadata": {},
   "source": [
    "[네이버](http:///www.naver.com)"
   ]
  },
  {
   "cell_type": "code",
   "execution_count": 10,
   "id": "86d966db-20e9-4f17-b25a-f0c783298dda",
   "metadata": {},
   "outputs": [],
   "source": [
    "a = input('숫자를 입력하세요 >>> ')\n",
    "a"
   ]
  },
  {
   "cell_type": "code",
   "execution_count": null,
   "id": "4001944d-ec27-4dca-b6ca-38294b448f14",
   "metadata": {},
   "outputs": [],
   "source": [
    "input? #input() 범위안에 커서 두고 tab+shift"
   ]
  }
 ],
 "metadata": {
  "interpreter": {
   "hash": "2043299c89c8cd0b4d1a6f5cf4529bd58e6a4e0fe3181a25e0d328c821cdc5c5"
  },
  "kernelspec": {
   "display_name": "Python 3 (ipykernel)",
   "language": "python",
   "name": "python3"
  },
  "language_info": {
   "codemirror_mode": {
    "name": "ipython",
    "version": 3
   },
   "file_extension": ".py",
   "mimetype": "text/x-python",
   "name": "python",
   "nbconvert_exporter": "python",
   "pygments_lexer": "ipython3",
   "version": "3.9.7"
  }
 },
 "nbformat": 4,
 "nbformat_minor": 5
}
