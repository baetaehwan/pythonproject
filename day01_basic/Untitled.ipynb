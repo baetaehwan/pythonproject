{
 "cells": [
  {
   "cell_type": "code",
   "execution_count": 2,
   "id": "2f89afc0-79c3-47a4-9750-012e39a79373",
   "metadata": {},
   "outputs": [
    {
     "data": {
      "text/plain": [
       "(2, 1)"
      ]
     },
     "execution_count": 2,
     "metadata": {},
     "output_type": "execute_result"
    }
   ],
   "source": [
    "divmod(5,2)"
   ]
  },
  {
   "cell_type": "code",
   "execution_count": 32,
   "id": "723109a7-e06c-403d-90e1-327fb282250e",
   "metadata": {},
   "outputs": [],
   "source": [
    "a = divmod(5,2)"
   ]
  },
  {
   "cell_type": "code",
   "execution_count": 20,
   "id": "93eee817-219d-4cd2-9ec9-f60afbd2dc55",
   "metadata": {},
   "outputs": [
    {
     "data": {
      "text/plain": [
       "(2, 1)"
      ]
     },
     "execution_count": 20,
     "metadata": {},
     "output_type": "execute_result"
    }
   ],
   "source": [
    "a"
   ]
  },
  {
   "cell_type": "code",
   "execution_count": 21,
   "id": "bbd7b20c-20fa-4731-8c66-23f3fca75b6e",
   "metadata": {},
   "outputs": [
    {
     "data": {
      "text/plain": [
       "2"
      ]
     },
     "execution_count": 21,
     "metadata": {},
     "output_type": "execute_result"
    }
   ],
   "source": [
    "a[0]"
   ]
  },
  {
   "cell_type": "code",
   "execution_count": 22,
   "id": "3913c900-8878-45e0-ad40-8f0b8d2edf4a",
   "metadata": {},
   "outputs": [
    {
     "data": {
      "text/plain": [
       "1"
      ]
     },
     "execution_count": 22,
     "metadata": {},
     "output_type": "execute_result"
    }
   ],
   "source": [
    "a[1]"
   ]
  },
  {
   "cell_type": "code",
   "execution_count": 23,
   "id": "8ee874d7-fe83-469b-b52c-f116d517b40a",
   "metadata": {},
   "outputs": [
    {
     "data": {
      "text/plain": [
       "255"
      ]
     },
     "execution_count": 23,
     "metadata": {},
     "output_type": "execute_result"
    }
   ],
   "source": [
    "0xff"
   ]
  },
  {
   "cell_type": "code",
   "execution_count": 24,
   "id": "502dd47c-26ac-4f54-9efb-3232c36ed066",
   "metadata": {},
   "outputs": [
    {
     "data": {
      "text/plain": [
       "(2, 1)"
      ]
     },
     "execution_count": 24,
     "metadata": {},
     "output_type": "execute_result"
    }
   ],
   "source": [
    "a"
   ]
  },
  {
   "cell_type": "code",
   "execution_count": 33,
   "id": "a07c3bca-be16-4708-8dd0-6ad598d35072",
   "metadata": {},
   "outputs": [],
   "source": [
    "b= [1,2,3,4,5]"
   ]
  },
  {
   "cell_type": "code",
   "execution_count": 34,
   "id": "c37bab5b-cb42-4dac-998d-3ac6000295ae",
   "metadata": {},
   "outputs": [
    {
     "data": {
      "text/plain": [
       "list"
      ]
     },
     "execution_count": 34,
     "metadata": {},
     "output_type": "execute_result"
    }
   ],
   "source": [
    "type(b)"
   ]
  },
  {
   "cell_type": "code",
   "execution_count": 35,
   "id": "f70b765c-ffac-4d07-8af1-ada21d546996",
   "metadata": {},
   "outputs": [],
   "source": [
    "del b[2]"
   ]
  },
  {
   "cell_type": "code",
   "execution_count": 36,
   "id": "a13012c9-5c7d-424f-88ab-bb50d2dc1001",
   "metadata": {},
   "outputs": [
    {
     "data": {
      "text/plain": [
       "[1, 2, 4, 5]"
      ]
     },
     "execution_count": 36,
     "metadata": {},
     "output_type": "execute_result"
    }
   ],
   "source": [
    "b"
   ]
  },
  {
   "cell_type": "code",
   "execution_count": 37,
   "id": "6a180d32-0ded-4a87-a60f-2e1619cdd0e4",
   "metadata": {},
   "outputs": [
    {
     "name": "stdout",
     "output_type": "stream",
     "text": [
      "ggggg\n"
     ]
    }
   ],
   "source": [
    "print('ggggg')"
   ]
  },
  {
   "cell_type": "code",
   "execution_count": 38,
   "id": "4022119c-b54c-4ead-9446-21dde78bef1c",
   "metadata": {},
   "outputs": [
    {
     "data": {
      "text/plain": [
       "['안녕', '하세요']"
      ]
     },
     "execution_count": 38,
     "metadata": {},
     "output_type": "execute_result"
    }
   ],
   "source": [
    "'안녕 하세요'. split()"
   ]
  },
  {
   "cell_type": "code",
   "execution_count": null,
   "id": "a1e17591-1474-45e0-affa-87e5069c141f",
   "metadata": {},
   "outputs": [
    {
     "data": {
      "text/plain": [
       "['안녕', '하세요']"
      ]
     },
     "execution_count": 3,
     "metadata": {},
     "output_type": "execute_result"
    }
   ],
   "source": [
    "a= '안녕 하세요'\n",
    "a.split()"
   ]
  },
  {
   "cell_type": "code",
   "execution_count": null,
   "id": "e38df1cb-9f53-4aac-a75b-311f658d9627",
   "metadata": {},
   "outputs": [
    {
     "name": "stdin",
     "output_type": "stream",
     "text": [
      " \n"
     ]
    },
    {
     "data": {
      "text/plain": [
       "[]"
      ]
     },
     "execution_count": 4,
     "metadata": {},
     "output_type": "execute_result"
    }
   ],
   "source": [
    "input().split()"
   ]
  },
  {
   "cell_type": "code",
   "execution_count": null,
   "id": "a92b511e-c58b-4cb9-ac19-61dee49a2255",
   "metadata": {},
   "outputs": [
    {
     "ename": "NameError",
     "evalue": "name 'b' is not defined",
     "output_type": "error",
     "traceback": [
      "\u001b[1;31m---------------------------------------------------------------------------\u001b[0m",
      "\u001b[1;31mNameError\u001b[0m                                 Traceback (most recent call last)",
      "\u001b[1;32m~\\AppData\\Local\\Temp/ipykernel_7556/2836015337.py\u001b[0m in \u001b[0;36m<module>\u001b[1;34m\u001b[0m\n\u001b[1;32m----> 1\u001b[1;33m \u001b[0mprint\u001b[0m\u001b[1;33m(\u001b[0m\u001b[0ma\u001b[0m\u001b[1;33m,\u001b[0m \u001b[0mb\u001b[0m\u001b[1;33m,\u001b[0m \u001b[0mc\u001b[0m\u001b[1;33m)\u001b[0m\u001b[1;33m\u001b[0m\u001b[1;33m\u001b[0m\u001b[0m\n\u001b[0m",
      "\u001b[1;31mNameError\u001b[0m: name 'b' is not defined"
     ]
    }
   ],
   "source": [
    "print(a, b, c)"
   ]
  },
  {
   "cell_type": "code",
   "execution_count": 45,
   "id": "fd12af34-2356-4912-9a32-b76ecd2efa93",
   "metadata": {},
   "outputs": [
    {
     "name": "stdout",
     "output_type": "stream",
     "text": [
      "a,b,c\n",
      "dddd\n"
     ]
    }
   ],
   "source": [
    "print('a','b','c',sep=',',end='\\n')\n",
    "print('dddd')"
   ]
  },
  {
   "cell_type": "code",
   "execution_count": 46,
   "id": "5d2d3bfe-0315-44be-8a07-c66ae8cc0dab",
   "metadata": {},
   "outputs": [
    {
     "data": {
      "text/plain": [
       "(True, False)"
      ]
     },
     "execution_count": 46,
     "metadata": {},
     "output_type": "execute_result"
    }
   ],
   "source": [
    "True,False"
   ]
  },
  {
   "cell_type": "code",
   "execution_count": 47,
   "id": "c361e45f-9bca-44a6-a339-c90f04da9eaa",
   "metadata": {},
   "outputs": [
    {
     "data": {
      "text/plain": [
       "(1, 2)"
      ]
     },
     "execution_count": 47,
     "metadata": {},
     "output_type": "execute_result"
    }
   ],
   "source": [
    "1,2"
   ]
  },
  {
   "cell_type": "code",
   "execution_count": 48,
   "id": "7fb6a231-5fa5-4b4e-aab9-a19403fb029a",
   "metadata": {},
   "outputs": [
    {
     "data": {
      "text/plain": [
       "True"
      ]
     },
     "execution_count": 48,
     "metadata": {},
     "output_type": "execute_result"
    }
   ],
   "source": [
    "10 == 10"
   ]
  },
  {
   "cell_type": "code",
   "execution_count": 49,
   "id": "303fd84e-56c3-4554-be72-511ccd004791",
   "metadata": {},
   "outputs": [
    {
     "data": {
      "text/plain": [
       "True"
      ]
     },
     "execution_count": 49,
     "metadata": {},
     "output_type": "execute_result"
    }
   ],
   "source": [
    "10 != 5"
   ]
  },
  {
   "cell_type": "code",
   "execution_count": 50,
   "id": "8022d718-31cf-4578-8405-13c1304c0b56",
   "metadata": {},
   "outputs": [
    {
     "data": {
      "text/plain": [
       "False"
      ]
     },
     "execution_count": 50,
     "metadata": {},
     "output_type": "execute_result"
    }
   ],
   "source": [
    "10 ==5"
   ]
  },
  {
   "cell_type": "code",
   "execution_count": 51,
   "id": "68fe805b-02d1-4b1d-ad16-8012d8260fea",
   "metadata": {},
   "outputs": [
    {
     "data": {
      "text/plain": [
       "True"
      ]
     },
     "execution_count": 51,
     "metadata": {},
     "output_type": "execute_result"
    }
   ],
   "source": [
    "a=1\n",
    "b=1\n",
    "a==b"
   ]
  },
  {
   "cell_type": "code",
   "execution_count": 52,
   "id": "57a1f9e6-d1a6-409b-aeca-107881ba5c6f",
   "metadata": {},
   "outputs": [
    {
     "data": {
      "text/plain": [
       "True"
      ]
     },
     "execution_count": 52,
     "metadata": {},
     "output_type": "execute_result"
    }
   ],
   "source": [
    "a is b"
   ]
  },
  {
   "cell_type": "code",
   "execution_count": 53,
   "id": "5976209b-b504-43e8-bec6-1726345adc94",
   "metadata": {},
   "outputs": [
    {
     "data": {
      "text/plain": [
       "False"
      ]
     },
     "execution_count": 53,
     "metadata": {},
     "output_type": "execute_result"
    }
   ],
   "source": [
    "a is not b"
   ]
  },
  {
   "cell_type": "code",
   "execution_count": 54,
   "id": "1190819a-b9e2-4b11-a462-7abe3a84e99a",
   "metadata": {},
   "outputs": [
    {
     "data": {
      "text/plain": [
       "'교실에서 \"안녕!\"이라고 인사하기'"
      ]
     },
     "execution_count": 54,
     "metadata": {},
     "output_type": "execute_result"
    }
   ],
   "source": [
    "'교실에서 \"안녕!\"이라고 인사하기'"
   ]
  },
  {
   "cell_type": "code",
   "execution_count": 58,
   "id": "7754a1ea-4053-44b2-bc8b-892e06122c10",
   "metadata": {},
   "outputs": [
    {
     "data": {
      "text/plain": [
       "\"교실에서 '안녕!'이라고 인사하기\""
      ]
     },
     "execution_count": 58,
     "metadata": {},
     "output_type": "execute_result"
    }
   ],
   "source": [
    "\"교실에서 '안녕!'이라고 인사하기\""
   ]
  },
  {
   "cell_type": "code",
   "execution_count": 59,
   "id": "86cdb913-5218-4941-ab10-1e652d9b0e26",
   "metadata": {},
   "outputs": [
    {
     "data": {
      "text/plain": [
       "'안녕\\n하세요\\n안녕!\\n'"
      ]
     },
     "execution_count": 59,
     "metadata": {},
     "output_type": "execute_result"
    }
   ],
   "source": [
    "'''안녕\n",
    "하세요\n",
    "안녕!\n",
    "'''"
   ]
  },
  {
   "cell_type": "code",
   "execution_count": 61,
   "id": "66c24ff3-0791-4ca7-a404-4f4a4d91dde2",
   "metadata": {},
   "outputs": [
    {
     "data": {
      "text/plain": [
       "'아\\n니\\n'"
      ]
     },
     "execution_count": 61,
     "metadata": {},
     "output_type": "execute_result"
    }
   ],
   "source": [
    "'아\\n니\\n'"
   ]
  },
  {
   "cell_type": "code",
   "execution_count": 62,
   "id": "14005ade-d652-45b4-b01f-e693bfe91c0e",
   "metadata": {},
   "outputs": [
    {
     "data": {
      "text/plain": [
       "'i eat 3 apple. total 6'"
      ]
     },
     "execution_count": 62,
     "metadata": {},
     "output_type": "execute_result"
    }
   ],
   "source": [
    "'i eat {} apple. total {}'.format(3,6)"
   ]
  },
  {
   "cell_type": "code",
   "execution_count": 67,
   "id": "22985a14-4f15-4b94-a424-0a9e77d38ede",
   "metadata": {},
   "outputs": [
    {
     "data": {
      "text/plain": [
       "'i eat 4.14       apple, total 5'"
      ]
     },
     "execution_count": 67,
     "metadata": {},
     "output_type": "execute_result"
    }
   ],
   "source": [
    "'i eat {:<10.2f} apple, total {}'. format(4.142323,5)"
   ]
  },
  {
   "cell_type": "code",
   "execution_count": 70,
   "id": "e22ac834-8620-4aa4-9c68-438d92b3cbe5",
   "metadata": {},
   "outputs": [
    {
     "data": {
      "text/plain": [
       "'i eat    3.12    apple. total 6'"
      ]
     },
     "execution_count": 70,
     "metadata": {},
     "output_type": "execute_result"
    }
   ],
   "source": [
    "value = 3.1234567\n",
    "'i eat {:^10.2f} apple. total {}' .format(value,6)"
   ]
  },
  {
   "cell_type": "code",
   "execution_count": 71,
   "id": "dcce314b-fecb-44de-9a72-34d755770716",
   "metadata": {},
   "outputs": [
    {
     "data": {
      "text/plain": [
       "'i eat    3.12    apple.'"
      ]
     },
     "execution_count": 71,
     "metadata": {},
     "output_type": "execute_result"
    }
   ],
   "source": [
    "f'i eat {value:^10,.2f} apple.'"
   ]
  },
  {
   "cell_type": "code",
   "execution_count": 73,
   "id": "9e34dfca-78a3-48ee-9b16-2eb6eecdcf46",
   "metadata": {},
   "outputs": [
    {
     "data": {
      "text/plain": [
       "'pythonpython'"
      ]
     },
     "execution_count": 73,
     "metadata": {},
     "output_type": "execute_result"
    }
   ],
   "source": [
    "a = \"python\"\n",
    "a*2"
   ]
  },
  {
   "cell_type": "code",
   "execution_count": 74,
   "id": "09441ac0-dabe-4196-8b0c-b9062efd02df",
   "metadata": {},
   "outputs": [
    {
     "data": {
      "text/plain": [
       "13"
      ]
     },
     "execution_count": 74,
     "metadata": {},
     "output_type": "execute_result"
    }
   ],
   "source": [
    "a = \"life is good.\"\n",
    "len(a)"
   ]
  },
  {
   "cell_type": "code",
   "execution_count": 75,
   "id": "17fd330b-28b0-42b3-98d3-fb583382f787",
   "metadata": {},
   "outputs": [
    {
     "data": {
      "text/plain": [
       "'e'"
      ]
     },
     "execution_count": 75,
     "metadata": {},
     "output_type": "execute_result"
    }
   ],
   "source": [
    "a[3]"
   ]
  },
  {
   "cell_type": "code",
   "execution_count": 76,
   "id": "4d499dd7-d0eb-4d9f-abbf-29d07cf60cab",
   "metadata": {},
   "outputs": [
    {
     "data": {
      "text/plain": [
       "'d'"
      ]
     },
     "execution_count": 76,
     "metadata": {},
     "output_type": "execute_result"
    }
   ],
   "source": [
    "a[-2]"
   ]
  },
  {
   "cell_type": "code",
   "execution_count": 78,
   "id": "cd2ad5f2-792e-4fda-bb4b-9f70f10c5532",
   "metadata": {},
   "outputs": [
    {
     "data": {
      "text/plain": [
       "'life '"
      ]
     },
     "execution_count": 78,
     "metadata": {},
     "output_type": "execute_result"
    }
   ],
   "source": [
    "a[0:5]"
   ]
  },
  {
   "cell_type": "code",
   "execution_count": 79,
   "id": "33a15b15-4f2c-427b-a128-e5299a7ca8ae",
   "metadata": {},
   "outputs": [
    {
     "data": {
      "text/plain": [
       "'ood.'"
      ]
     },
     "execution_count": 79,
     "metadata": {},
     "output_type": "execute_result"
    }
   ],
   "source": [
    "a[-4:]"
   ]
  },
  {
   "cell_type": "code",
   "execution_count": null,
   "id": "49a4559d-0b9f-48ce-b10a-821deeb64425",
   "metadata": {},
   "outputs": [],
   "source": []
  }
 ],
 "metadata": {
  "kernelspec": {
   "display_name": "Python 3 (ipykernel)",
   "language": "python",
   "name": "python3"
  },
  "language_info": {
   "codemirror_mode": {
    "name": "ipython",
    "version": 3
   },
   "file_extension": ".py",
   "mimetype": "text/x-python",
   "name": "python",
   "nbconvert_exporter": "python",
   "pygments_lexer": "ipython3",
   "version": "3.9.7"
  }
 },
 "nbformat": 4,
 "nbformat_minor": 5
}
