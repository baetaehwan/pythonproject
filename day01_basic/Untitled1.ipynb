{
 "cells": [
  {
   "cell_type": "code",
   "execution_count": null,
   "id": "1137b9bb-71c7-435d-9e22-c4a0a6530ff8",
   "metadata": {},
   "outputs": [],
   "source": [
    "a = input('숫자를 입력하세요 >>>')"
   ]
  },
  {
   "cell_type": "code",
   "execution_count": null,
   "id": "ede824d9-4dd6-4899-9f11-d34739d6cfdc",
   "metadata": {},
   "outputs": [],
   "source": [
    "type(a)"
   ]
  },
  {
   "cell_type": "code",
   "execution_count": null,
   "id": "01ed4ec0-0080-419c-afff-28c991317f5c",
   "metadata": {},
   "outputs": [],
   "source": [
    "a = int(a)"
   ]
  },
  {
   "cell_type": "markdown",
   "id": "2b700d56-6d8a-4463-b972-672bfed99201",
   "metadata": {},
   "source": [
    "type(a)"
   ]
  },
  {
   "cell_type": "code",
   "execution_count": null,
   "id": "61eb50f2-d157-4f2a-9229-30df8b38f99f",
   "metadata": {},
   "outputs": [],
   "source": [
    "float(a)"
   ]
  },
  {
   "cell_type": "code",
   "execution_count": null,
   "id": "6024fc30-8ab5-4390-b940-472b46c31cd9",
   "metadata": {},
   "outputs": [],
   "source": [
    "a = str(a)\n",
    "type(a)"
   ]
  },
  {
   "cell_type": "code",
   "execution_count": null,
   "id": "b6ace9c6-647e-4e2f-8f42-dbe809d9f543",
   "metadata": {},
   "outputs": [],
   "source": [
    "b = input('숫자를 입력하세요')\n",
    "type(b)"
   ]
  },
  {
   "cell_type": "code",
   "execution_count": null,
   "id": "f522b9c3-1525-4543-b4e4-748d306730ec",
   "metadata": {},
   "outputs": [],
   "source": [
    "int(b)"
   ]
  },
  {
   "cell_type": "code",
   "execution_count": null,
   "id": "e80ab613-f280-4e89-8343-6c2fad1b47e6",
   "metadata": {},
   "outputs": [],
   "source": [
    "if b.isdecimal():\n",
    "    print('참일때 해야될일')\n",
    "elif b.isalpha():\n",
    "    print('문자일때 할일')\n",
    "else:\n",
    "    print('그외 나머지')\n",
    "          "
   ]
  },
  {
   "cell_type": "raw",
   "id": "de6ca0b0-413c-4ecf-873b-9c0094f14a4c",
   "metadata": {},
   "source": [
    "박스당 과일을 넣어서 몇 박스 몇 개인지를 출력해주는 프로그램 작성\n",
    "- 조건체크: 입력값이 숫자인지 여부 체크해서 작성 \n",
    "- 입력 받을 값 : 박스당 과일수, 전체 과일수\n",
    "- 출력 내용: X박스 X개"
   ]
  },
  {
   "cell_type": "code",
   "execution_count": 2,
   "id": "b2a6bba7-74fc-4c8d-9161-f5131ddc1545",
   "metadata": {},
   "outputs": [
    {
     "name": "stdin",
     "output_type": "stream",
     "text": [
      "박스당 과일수 >>> 23\n",
      "전체 과일수 >>> 256\n"
     ]
    },
    {
     "name": "stdout",
     "output_type": "stream",
     "text": [
      "11 박스  3 개\n"
     ]
    }
   ],
   "source": [
    "a = input('박스당 과일수 >>>')\n",
    "b = input('전체 과일수 >>>')\n",
    "if a.isdecimal() and b.isdecimal():\n",
    "    a,b = int(a), int(b)\n",
    "    box = b//a\n",
    "    count = b%a\n",
    "    print( box,'박스 ',count,'개')\n",
    "else:\n",
    "    print('입력값이 잘못되었습니다.')"
   ]
  },
  {
   "cell_type": "code",
   "execution_count": null,
   "id": "8e05dd4e-019e-49cd-a53c-eb161392bf27",
   "metadata": {},
   "outputs": [],
   "source": []
  }
 ],
 "metadata": {
  "kernelspec": {
   "display_name": "Python 3 (ipykernel)",
   "language": "python",
   "name": "python3"
  },
  "language_info": {
   "codemirror_mode": {
    "name": "ipython",
    "version": 3
   },
   "file_extension": ".py",
   "mimetype": "text/x-python",
   "name": "python",
   "nbconvert_exporter": "python",
   "pygments_lexer": "ipython3",
   "version": "3.9.7"
  }
 },
 "nbformat": 4,
 "nbformat_minor": 5
}
